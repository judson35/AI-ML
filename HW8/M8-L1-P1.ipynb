{
 "cells": [
  {
   "attachments": {},
   "cell_type": "markdown",
   "metadata": {},
   "source": [
    "# M8-L1 Problem 1\n",
    "\n",
    "In this problem you will solve for $\\frac{\\partial L}{\\partial W_2}$ and $\\frac{\\partial L}{\\partial W_1}$ for a neural network with two input features, a hidden layer with 3 nodes, and a single output. You will use the sigmoid activation function on the hidden layer. You are provided an input sample $x_0$, the current weights $W_1$ and $W_2$, and the ground truth value for the sample, $t = -2$\n",
    "\n",
    "$L=\\frac{1}{2}e^Te$"
   ]
  },
  {
   "cell_type": "code",
   "execution_count": 1,
   "metadata": {},
   "outputs": [],
   "source": [
    "import numpy as np\n",
    "\n",
    "x0 = np.array([[-2], [-6]])\n",
    "\n",
    "W1 = np.array([[-2, 1],[3, 8],[-12, 7]])\n",
    "W2 = np.array([[-11, 2, 5]])\n",
    "\n",
    "t = np.array([[-2]])"
   ]
  },
  {
   "attachments": {},
   "cell_type": "markdown",
   "metadata": {},
   "source": [
    "## Define activation function and its derivative\n",
    "\n",
    "First define functions for the sigmoid activation functions, as well as its derivative:"
   ]
  },
  {
   "cell_type": "code",
   "execution_count": 2,
   "metadata": {},
   "outputs": [],
   "source": [
    "def sigmoid(x):\n",
    "    return 1 / (1 + np.exp(-x))\n",
    "\n",
    "def del_sigmoid(x):\n",
    "    s = sigmoid(x)\n",
    "    return s*(1-s)"
   ]
  },
  {
   "attachments": {},
   "cell_type": "markdown",
   "metadata": {},
   "source": [
    "# Forward propagation\n",
    "\n",
    "Using your activation function, compute the output of the network $y$ using the sample $x_0$ and the provided weights $W_1$ and $W_2$"
   ]
  },
  {
   "cell_type": "code",
   "execution_count": 18,
   "metadata": {},
   "outputs": [
    {
     "name": "stdout",
     "output_type": "stream",
     "text": [
      "[[-1.31123207]]\n"
     ]
    }
   ],
   "source": [
    "a1 = W1 @ x0\n",
    "x1 = sigmoid(a1)\n",
    "a2 = W2 @ x1\n",
    "y = a2\n",
    "print(y)"
   ]
  },
  {
   "attachments": {},
   "cell_type": "markdown",
   "metadata": {},
   "source": [
    "## Backpropagation\n",
    "\n",
    "Using your calculated value of $y$, the provided value of $t$, your $\\sigma$ and $\\sigma'$ function, and the provided weights $W_1$ and $W_2$, compute the gradients $\\frac{\\partial L}{\\partial W_2}$ and $\\frac{\\partial L}{\\partial W_1}$."
   ]
  },
  {
   "cell_type": "code",
   "execution_count": 19,
   "metadata": {},
   "outputs": [
    {
     "name": "stdout",
     "output_type": "stream",
     "text": [
      "[[8.21031503e-02]\n",
      " [2.43316128e-24]\n",
      " [1.04899215e-08]]\n",
      "[[1.59095662]\n",
      " [4.77286987]]\n"
     ]
    }
   ],
   "source": [
    "e = t - y\n",
    "L = 0.5*(e.T @ e)\n",
    "\n",
    "delta_2 = -e\n",
    "dLdw2 = delta_2 * x1\n",
    "delta_1 = delta_2 @ W2 @ del_sigmoid(a1)\n",
    "dLdw1 = delta_1 * x0\n",
    "\n",
    "print(dLdw2)\n",
    "print(dLdw1)\n"
   ]
  }
 ],
 "metadata": {
  "kernelspec": {
   "display_name": "base",
   "language": "python",
   "name": "python3"
  },
  "language_info": {
   "codemirror_mode": {
    "name": "ipython",
    "version": 3
   },
   "file_extension": ".py",
   "mimetype": "text/x-python",
   "name": "python",
   "nbconvert_exporter": "python",
   "pygments_lexer": "ipython3",
   "version": "3.8.5"
  },
  "orig_nbformat": 4
 },
 "nbformat": 4,
 "nbformat_minor": 2
}
