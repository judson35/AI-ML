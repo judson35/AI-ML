{
 "cells": [
  {
   "attachments": {},
   "cell_type": "markdown",
   "metadata": {},
   "source": [
    "# Problem 5 (6 Points)\n",
    "\n",
    "Stress-strain measurements have been collected for many samples across many parts, resulting in much noisier data than would come from a tensile test, for example. Your job is to train an ensemble of decision trees that can predict stress for an input strain. \n",
    "\n",
    "Scikit-Learn's `RandomForestRegressor()` has several parameters that you will experiment with below.\n",
    "\n",
    "Run each cell; then, experiment with different settings of the `RandomForestRegressor()` to answer the questions at the end.\n"
   ]
  },
  {
   "cell_type": "code",
   "execution_count": 3,
   "metadata": {},
   "outputs": [],
   "source": [
    "# Import libraries\n",
    "import numpy as np\n",
    "import matplotlib.pyplot as plt\n",
    "from sklearn.ensemble import RandomForestRegressor\n",
    "%matplotlib inline\n",
    "from ipywidgets import interact, interactive, fixed, interact_manual, Layout, FloatSlider, Dropdown\n",
    "\n",
    "# Load the data\n",
    "y = np.array([133.18473289, 366.12422297, 453.70990214, 479.37136253, 238.16361712,  39.91719443, 282.21638562, 292.65795577, 452.3018357 , 513.74698695, 218.15682352, 246.89907722, 288.01585801, 496.79161385, 513.33226691, 424.08833145, 348.82218375, 416.3219439 , 377.13994489, 369.19256451, 473.34491909, 439.30614707, 294.35282781, 480.91717688, 296.48549884, 179.54014001, 207.18389616, 183.07319414, 120.82807145, 533.60761691, 580.56296671, 386.6089496 , 419.26095887, 281.62811215, 173.98663034, 532.76872944, 480.19236657, 399.04560233, 234.12695309,  67.66845783, 512.31910187, 115.28680775, 401.89425604, 383.0896221 , 348.80843569,  80.44889501,  64.68281643, 526.95380423, 310.85373168, 307.50969584, 446.45803748, 165.35545741, 414.88737018, 364.63597852, 487.6081401 , 468.15816997, 349.14335436, 332.10442343, 490.53829223, 455.37759943, 296.34199873, 482.30630337])\n",
    "x = np.array([0.47358185, 0.80005535, 1.10968143, 1.85282726, 0.58177792, 0.24407275, 0.67817621, 0.59768343, 1.39656401, 1.20373001, 0.64022514, 0.51568838, 0.65147781, 1.20059147, 1.83127605, 0.96453862, 0.96392458, 1.34246004, 0.94255129, 0.78008304, 1.86226445, 1.30136524, 0.67180015, 1.39195582, 0.71199128, 0.58129463, 0.56788261, 0.53974967, 0.4527218 , 1.32972689, 1.69826628, 1.06217982, 0.83887108, 0.92104216, 0.40126339, 1.64047136, 0.98148719, 1.02722597, 0.50128165, 0.18748944, 1.70601479, 0.42319326, 0.85202771, 1.15619305, 0.8703823 , 0.41810514, 0.24339075, 1.43638861, 0.71262321, 0.76776402, 1.08206553, 0.30560831, 1.04197577, 1.26957562, 1.33471511, 1.06236103, 0.70525115, 0.73310256, 1.23735534, 1.27799174, 0.72219864, 1.45629556])"
   ]
  },
  {
   "cell_type": "code",
   "execution_count": 4,
   "metadata": {},
   "outputs": [
    {
     "data": {
      "application/vnd.jupyter.widget-view+json": {
       "model_id": "1b1930e3933343959d704a0723439718",
       "version_major": 2,
       "version_minor": 0
      },
      "text/plain": [
       "interactive(children=(FloatSlider(value=2.0, description='# Estimators', layout=Layout(width='550px'), max=10.…"
      ]
     },
     "execution_count": 4,
     "metadata": {},
     "output_type": "execute_result"
    }
   ],
   "source": [
    "def plot(n_estimators, max_leaf_nodes, bootstrap):\n",
    "    n_estimators = [1,10,20,30,40,50,60,70,80,90,100][int(n_estimators)]\n",
    "    max_leaf_nodes = int(max_leaf_nodes)\n",
    "    model = RandomForestRegressor(n_estimators=n_estimators, \n",
    "                                  bootstrap=(True if \"On\" in bootstrap else False),\n",
    "                                  max_leaf_nodes=max_leaf_nodes,\n",
    "                                  random_state=0)\n",
    "    model.fit(x.reshape(-1,1), y)\n",
    "\n",
    "    xs = np.linspace(min(x),max(x),500)\n",
    "    ys = model.predict(xs.reshape(-1,1))\n",
    "\n",
    "    plt.figure(figsize=(5,3),dpi=150)\n",
    "    plt.scatter(x,y,s=20,color=\"cornflowerblue\",edgecolor=\"navy\",label=\"Data\")\n",
    "    plt.plot(xs, ys, c=\"red\",linewidth=2,label=\"Mean prediction\")\n",
    "    for i,dt in enumerate(model.estimators_):\n",
    "        label = \"Tree predictions\" if i == 0 else None\n",
    "        plt.plot(xs, dt.predict(xs.reshape(-1,1)), c=\"gray\",linewidth=.5,zorder=-1, label = label)\n",
    "\n",
    "    plt.legend(loc=\"lower right\",prop={\"size\":8})\n",
    "    plt.xlabel(\"Strain, %\")\n",
    "    plt.ylabel(\"Stress, MPa\")\n",
    "    plt.title(f\"Num. estimators: {n_estimators}, Max leaves = {max_leaf_nodes}, Bootstrapping: {bootstrap}\",fontsize=8)\n",
    "    plt.show()\n",
    "\n",
    "slider1 = FloatSlider(\n",
    "    value=2,\n",
    "    min=0,\n",
    "    max=10,\n",
    "    step=1,\n",
    "    description='# Estimators',\n",
    "    disabled=False,\n",
    "    continuous_update=True,\n",
    "    orientation='horizontal',\n",
    "    readout=False,\n",
    "    layout = Layout(width='550px')\n",
    ")\n",
    "\n",
    "slider2 = FloatSlider(\n",
    "    value=5,\n",
    "    min=2,\n",
    "    max=25,\n",
    "    step=1,\n",
    "    description='Max Leaves',\n",
    "    disabled=False,\n",
    "    continuous_update=True,\n",
    "    orientation='horizontal',\n",
    "    readout=False,\n",
    "    layout = Layout(width='550px')\n",
    ")\n",
    "\n",
    "dropdown = Dropdown(\n",
    "    options=[\"On (66% of data)\", \"Off\"],\n",
    "    value=\"On (66% of data)\",\n",
    "    description='Bootstrap',\n",
    "    disabled=False,\n",
    ")\n",
    "\n",
    "\n",
    "interactive_plot = interactive(\n",
    "    plot,\n",
    "    bootstrap = dropdown,\n",
    "    n_estimators = slider1,\n",
    "    max_leaf_nodes = slider2\n",
    "    )\n",
    "output = interactive_plot.children[-1]\n",
    "output.layout.height = '500px'\n",
    "\n",
    "interactive_plot"
   ]
  },
  {
   "attachments": {},
   "cell_type": "markdown",
   "metadata": {},
   "source": [
    "## Questions\n",
    "\n",
    "1. Keep bootstrapping on and set max leaf nodes constant at 3. Describe what happens to the mean prediction as the number of estimators increases.\n",
    "\n",
    "    Increasing the number of estimators improves the final fit of the data. This better fit is characterized by a smoother curve with less large step increases.\n",
    "\n",
    "2. Keep bootstrapping on and set number of estimators constant at 100. Describe what happens to the mean prediction as the leaf node maximum increases.\n",
    "\n",
    "    The mean prediction improves in its fit of the data to a certain point and then it starts to overfit. When the number of leaf nodes is at its max the mean prediction is very over fit to the data capturing a lot of the noise in the data.\n",
    "\n",
    "3. Now disable bootstrapping. Notice that all of the predictions are the same -- the gray lines are behind the red. Why is this? (Hint: Think about the number of features in this dataset.)\n",
    "\n",
    "    This is because all the nodes are being trained on the same data and are thus producing the same result in their fits."
   ]
  }
 ],
 "metadata": {
  "kernelspec": {
   "display_name": "aiml_env",
   "language": "python",
   "name": "python3"
  },
  "language_info": {
   "codemirror_mode": {
    "name": "ipython",
    "version": 3
   },
   "file_extension": ".py",
   "mimetype": "text/x-python",
   "name": "python",
   "nbconvert_exporter": "python",
   "pygments_lexer": "ipython3",
   "version": "3.8.5"
  },
  "orig_nbformat": 4
 },
 "nbformat": 4,
 "nbformat_minor": 2
}
