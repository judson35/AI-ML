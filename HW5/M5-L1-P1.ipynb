{
 "cells": [
  {
   "attachments": {},
   "cell_type": "markdown",
   "metadata": {},
   "source": [
    "# Problem 1 (6 points)\n",
    "\n",
    "In this problem, you will implement a function to calculate gini impurity on an arbitrary input vector.\n",
    "\n",
    "For reference, the formula for Gini impurity is:\n",
    "$$\n",
    "\\text{Gini}(D) = 1 - \\sum_{i=1}^k p_i^2\n",
    "$$\n",
    "where $D$ is the dataset containing samples from $k$ classes and $p_i$ is the probability of a data point belonging to class $i$.\n",
    "\n",
    "## Gini Impurity Function\n",
    "Complete the function `gini(D)` below. It should take as input a 1-D array, where is the number of samples corresponding to each output class. \n",
    "\n",
    "For example, consider the input array `D = np.array([4, 9, 7, 0, 3])`\n",
    "In this example, there are 5 input classes and 23 total samples. For this input, your function should return 0.707.\n",
    "\n",
    "Your function should work regardless of the length of the input vector."
   ]
  },
  {
   "cell_type": "code",
   "execution_count": 12,
   "metadata": {},
   "outputs": [
    {
     "name": "stdout",
     "output_type": "stream",
     "text": [
      "gini([4,9,7,0,3]) = 0.707 (should be about 0.707)\n"
     ]
    }
   ],
   "source": [
    "import numpy as np\n",
    "\n",
    "def gini(D):\n",
    "    D_adjusted = (D/np.sum(D))**2\n",
    "    return (1 - np.sum(D_adjusted))\n",
    "\n",
    "\n",
    "D = np.array([4, 9, 7, 0, 3])\n",
    "g = gini(D)\n",
    "print(f\"gini([4,9,7,0,3]) = {g:.3f} (should be about {0.707})\")"
   ]
  },
  {
   "attachments": {},
   "cell_type": "markdown",
   "metadata": {},
   "source": [
    "## More test cases\n",
    "\n",
    "Compute and print the gini impurity for `D1`, `D2`, `D3`, and `D4`, defined below:"
   ]
  },
  {
   "cell_type": "code",
   "execution_count": 13,
   "metadata": {},
   "outputs": [
    {
     "name": "stdout",
     "output_type": "stream",
     "text": [
      "Gini Imputity for D1: 0.000000\n",
      "Gini Imputity for D2: 0.000000\n",
      "Gini Imputity for D3: 0.226843\n",
      "Gini Imputity for D4: 0.750000\n"
     ]
    }
   ],
   "source": [
    "D1 = np.array([1,0,0])\n",
    "D2 = np.array([0,0,4])\n",
    "D3 = np.array([0, 20, 0, 0, 0, 3])\n",
    "D4 = np.array([6, 6, 6, 6])\n",
    "\n",
    "i = 1\n",
    "for D in [D1, D2, D3, D4]:\n",
    "    print(\"Gini Imputity for D%i: \" % i + \"%f\" % gini(D))\n",
    "    i += 1\n"
   ]
  }
 ],
 "metadata": {
  "kernelspec": {
   "display_name": "aiml_env",
   "language": "python",
   "name": "python3"
  },
  "language_info": {
   "codemirror_mode": {
    "name": "ipython",
    "version": 3
   },
   "file_extension": ".py",
   "mimetype": "text/x-python",
   "name": "python",
   "nbconvert_exporter": "python",
   "pygments_lexer": "ipython3",
   "version": "3.8.5"
  },
  "orig_nbformat": 4
 },
 "nbformat": 4,
 "nbformat_minor": 2
}
