{
 "cells": [
  {
   "attachments": {},
   "cell_type": "markdown",
   "metadata": {},
   "source": [
    "# HW1 Programming Problem 5 (30 points)\n",
    "\n",
    "## Problem Description\n",
    "Here, you will perform *weighted* KNN regression. \n",
    "\n",
    "After you write your own code for weighted KNN regression, you will also try out sklearn's built-in KNN regressor.\n",
    "\n",
    "Fill out the notebook as instructed, making the requested plots and printing necessary values. \n",
    "\n",
    "#### Summary of deliverables:\n",
    "Functions:\n",
    "- `weighted_knn(w1, w2, k)`\n",
    "\n",
    "Plots:\n",
    "- 3 plots of by-hand KNN results\n",
    "- 3 plots of sklearn.\n"
   ]
  },
  {
   "cell_type": "code",
   "execution_count": null,
   "metadata": {},
   "outputs": [],
   "source": [
    "import numpy as np\n",
    "import matplotlib.pyplot as plt\n",
    "from sklearn.neighbors import KNeighborsRegressor\n",
    "\n",
    "# Data generation -- don't change\n",
    "np.random.seed(42)\n",
    "N = 200\n",
    "w1_data = np.random.uniform(-1,1,N)\n",
    "w2_data = np.random.uniform(-1,1,N)\n",
    "L_data = np.cos(4*w1_data) + np.sin(5*w2_data) + 2*w1_data**2 - w2_data/2\n",
    "# (end of data generation)\n",
    "\n",
    "plt.figure(figsize=(5,4.2),dpi=80)\n",
    "plt.scatter(w1_data,w2_data,s=10,c=L_data,cmap=\"jet\")\n",
    "plt.colorbar()\n",
    "plt.axis(\"equal\")\n",
    "plt.xlabel(\"$w_1$\")\n",
    "plt.ylabel(\"$w_2$\")\n",
    "plt.xlim(-1,1)\n",
    "plt.ylim(-1,1)\n",
    "plt.title(\"Data\")\n",
    "plt.show()\n"
   ]
  },
  {
   "attachments": {},
   "cell_type": "markdown",
   "metadata": {},
   "source": [
    "## Weighted KNN function\n",
    "\n",
    "Here, define a function, `weighted_knn(w1, w2, k)`, which takes in a point at [`w1`, `w2`] and a `k` value, and returns the weighted KNN prediction.  \n",
    "\n",
    "- As in the lecture activity, data is in the variables `w1_data`, `w2_data`, and `L_data`.  \n",
    "\n",
    "- You can create as many helper functions as you want\n",
    "\n",
    "- The key difference between unweighted and weighted KNN is summarized below:\n",
    "\n",
    "**Unweighted KNN**\n",
    "1. Find the $k$ data points closest to the target point $w$ \n",
    "2. Get the output values at each of these points\n",
    "3. Average these values together: this is the prediction at $w$\n",
    "\n",
    "**Weighted KNN**\n",
    "1. Find the $k$ data points closest to the target point $w$ \n",
    "2. Compute the proximity of each of these points as $\\text{prox}_i = 1/(\\text{distance}(w, w_i) + 1e-9)$\n",
    "3. For each $w_i$, multiply $\\text{prox}_i$ by the output value at $w_i$, and divide by the sum of all $k$ proximities\n",
    "4. Add all $k$ of these results together: this is the prediction at $w$\n",
    "\n",
    "\n"
   ]
  },
  {
   "cell_type": "code",
   "execution_count": null,
   "metadata": {},
   "outputs": [],
   "source": [
    "def weighted_knn(w1, w2, k):\n",
    "    # YOUR CODE GOES HERE"
   ]
  },
  {
   "attachments": {},
   "cell_type": "markdown",
   "metadata": {},
   "source": [
    "## Plotting\n",
    "\n",
    "Now create 3 plots showing KNN regressor predictions for k values [1, 5, 25].\n",
    "\n",
    "You should plot a 50x50 grid of points on a grid for `w1` and `w2` values between -1 and 1. Consult the lecture activity for how to do this.\n",
    "\n",
    "We recommend creating a function, e.g. `plot(k)`, so that you need to rewrite less code."
   ]
  },
  {
   "cell_type": "code",
   "execution_count": null,
   "metadata": {},
   "outputs": [],
   "source": [
    "# YOUR CODE GOES HERE\n",
    "# Visualize results for k = 1, 5, and 25"
   ]
  },
  {
   "attachments": {},
   "cell_type": "markdown",
   "metadata": {},
   "source": [
    "## Using SciKit-Learn\n",
    "\n",
    "We can also use sklearn's `KNeighborsRegressor()`, which is a very efficient implementation of KNN regression.\n",
    "\n",
    "The code to do this has been done for one case below. First, make note of how this is done. "
   ]
  },
  {
   "cell_type": "code",
   "execution_count": null,
   "metadata": {},
   "outputs": [],
   "source": [
    "model = KNeighborsRegressor(n_neighbors = 1, weights=\"distance\")\n",
    "X = np.vstack([w1_data,w2_data]).T\n",
    "model.fit(X, L_data)\n",
    "\n",
    "# Get a prediction at a point (0, 0):\n",
    "print(model.predict(np.array([[0,0]])))\n"
   ]
  },
  {
   "attachments": {},
   "cell_type": "markdown",
   "metadata": {},
   "source": [
    "Now create 3 plots for the same values of k as before, using this KNN implementation instead. You can make sure these are visually the same as your from-scratch KNN regressor."
   ]
  },
  {
   "cell_type": "code",
   "execution_count": null,
   "metadata": {},
   "outputs": [],
   "source": [
    "# YOUR CODE GOES HERE\n",
    "# Visualize sklearn results for k = 1, 5, and 25"
   ]
  }
 ],
 "metadata": {
  "kernelspec": {
   "display_name": "torch_env",
   "language": "python",
   "name": "python3"
  },
  "language_info": {
   "codemirror_mode": {
    "name": "ipython",
    "version": 3
   },
   "file_extension": ".py",
   "mimetype": "text/x-python",
   "name": "python",
   "nbconvert_exporter": "python",
   "pygments_lexer": "ipython3",
   "version": "3.9.7"
  },
  "orig_nbformat": 4
 },
 "nbformat": 4,
 "nbformat_minor": 2
}
