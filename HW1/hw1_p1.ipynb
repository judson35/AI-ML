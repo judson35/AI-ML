{
 "cells": [
  {
   "attachments": {},
   "cell_type": "markdown",
   "metadata": {},
   "source": [
    "# HW1 Programming Problem 1 (10 points)\n",
    "\n",
    "You are given 14 temperature measurements from 14 thermocouples in a factory. A model has produced 14 temperature predictions, one for each thermocouple. You must compute the the error vector and MSE between the predicted and measured temperatures via a few methods.\n",
    "\n",
    "Run the next cell to load the data; then proceed through the notebook.\n",
    "\n",
    "- `y_data` is $y$, a 14x1 array of temperature measurements (in deg C)\n",
    "- `y_pred` is $\\hat{y}$, a 14x1 array of temperature predictions"
   ]
  },
  {
   "cell_type": "code",
   "execution_count": null,
   "metadata": {},
   "outputs": [],
   "source": [
    "import numpy as np\n",
    "np.set_printoptions(precision=4)\n",
    "\n",
    "y_data = np.array([[20,21,30,30,21,25,38,37,30,22,22,38,20,35]],dtype=np.double).T\n",
    "y_pred = np.array([[21,21,31,30,20,28,36,32,31,20,21,39,21,34]],dtype=np.double).T\n",
    "\n",
    "print(\"y_data = \\n\", y_data)\n",
    "print(\"y_pred = \\n\", y_pred)\n"
   ]
  },
  {
   "attachments": {},
   "cell_type": "markdown",
   "metadata": {},
   "source": [
    "## Error vector\n",
    "\n",
    "First, compute the error vector $y_{err} = y - \\hat{y}$. Call the result `y_err`. It should be 14x1.\n",
    "\n",
    "You may do this with a loop, or -- better yet -- by simply subtracting the two arrays."
   ]
  },
  {
   "cell_type": "code",
   "execution_count": null,
   "metadata": {},
   "outputs": [],
   "source": [
    "# YOUR CODE GOES HERE\n",
    "# Compute y_err\n",
    "\n",
    "\n",
    "print(\"Size of y_err:\", np.shape(y_err))"
   ]
  },
  {
   "attachments": {},
   "cell_type": "markdown",
   "metadata": {},
   "source": [
    "## Mean squared error (MSE)\n",
    "\n",
    "Now compute the MSE, \n",
    "\n",
    "$$ MSE = \\frac{1}{N} \\sum_{i=1}^N (y_i - \\hat{y}_i)^2 = \\frac{1}{N} \\sum_{i=1}^N y_{err}^2 $$\n",
    "\n",
    "\n",
    "### MSE with Loop\n",
    "\n",
    "First, compute this quantity by using a for loop to loop through y_err, performing the necessary operations to compute MSE.  \n",
    "Call the result `MSE_loop`.  \n",
    "Your result should be $\\approx$ 3.5714.\n"
   ]
  },
  {
   "cell_type": "code",
   "execution_count": null,
   "metadata": {},
   "outputs": [],
   "source": [
    "# YOUR CODE GOES HERE\n",
    "# Compute MSE_loop\n",
    "\n",
    "\n",
    "print(\"MSE (loop) = \", MSE_loop)"
   ]
  },
  {
   "attachments": {},
   "cell_type": "markdown",
   "metadata": {},
   "source": [
    "### MSE by matrix multiplication\n",
    "\n",
    "Another way to compute the MSE is by recognizing that the sum $ \\sum_{i=1}^N y_{err}^2 $ equals the matrix product $ y_{err}' \\cdot y_{err} $.  \n",
    "Therefore:\n",
    "$$ MSE = \\frac{1}{N} y_{err}' \\cdot y_{err} $$\n",
    "\n",
    "Compute the MSE this way. Call it `MSE_mm`, and make sure the result is the same. This is a much more efficient way of computing the MSE in Python.\n",
    "\n",
    "Note that you can compute the transpose of a 2D array `A` with `A.T`, and you can multiply matrices `A` and `B` with `A @ B`."
   ]
  },
  {
   "cell_type": "code",
   "execution_count": null,
   "metadata": {},
   "outputs": [],
   "source": [
    "# YOUR CODE GOES HERE\n",
    "# Compute MSE_mm\n",
    "\n",
    "\n",
    "print(\"MSE (matrix multiplication) = \", MSE_mm)"
   ]
  },
  {
   "attachments": {},
   "cell_type": "markdown",
   "metadata": {},
   "source": [
    "### MSE by numpy mean\n",
    "\n",
    "Now you will compute the MSE once more, but using numpy operations. Use `np.mean()` to take an average. Compute the square of `y_err` with either `np.square()` or `y_err * y_err`.\n",
    "\n",
    "Call your `MSE_np`, and make sure the result is the same. This is also much more efficient than a Python for loop.\n"
   ]
  },
  {
   "cell_type": "code",
   "execution_count": null,
   "metadata": {},
   "outputs": [],
   "source": [
    "# YOUR CODE GOES HERE\n",
    "# Compute MSE_np\n",
    "\n",
    "\n",
    "print(\"MSE (Numpy) = \", MSE_np)"
   ]
  }
 ],
 "metadata": {
  "kernelspec": {
   "display_name": "torch_env",
   "language": "python",
   "name": "python3"
  },
  "language_info": {
   "codemirror_mode": {
    "name": "ipython",
    "version": 3
   },
   "file_extension": ".py",
   "mimetype": "text/x-python",
   "name": "python",
   "nbconvert_exporter": "python",
   "pygments_lexer": "ipython3",
   "version": "3.9.7"
  },
  "orig_nbformat": 4
 },
 "nbformat": 4,
 "nbformat_minor": 2
}
