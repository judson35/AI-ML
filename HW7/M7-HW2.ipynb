{
 "cells": [
  {
   "attachments": {},
   "cell_type": "markdown",
   "metadata": {},
   "source": [
    "# Problem 2\n",
    "\n",
    "## Problem Description\n",
    "In this problem you will train a neural network to classify points with features $x_0$ and $x_1$ belonging to one of three classes, indicated by the label $y$. The structure of your neural network is up to you, but you must describe the structure of your network, training parameters, and report an accuracy for your fitted model on the provided data.\n",
    "\n",
    "Fill out the notebook as instructed, making the requested plots and printing necessary values. \n",
    "\n",
    "*You are welcome to use any of the code provided in the lecture activities.*\n",
    "\n",
    "#### Summary of deliverables:\n",
    "\n",
    "- Visualization of provided data\n",
    "- Visualization of trained model with provided data\n",
    "- Trained model accuracy\n",
    "- Discussion of model structure and training parameters\n",
    "\n",
    "#### Imports and Utility Functions:"
   ]
  },
  {
   "cell_type": "code",
   "execution_count": 1,
   "metadata": {},
   "outputs": [],
   "source": [
    "import torch\n",
    "import torch.nn as nn\n",
    "import numpy as np\n",
    "from sklearn import datasets\n",
    "import matplotlib.pyplot as plt\n",
    "from matplotlib.colors import ListedColormap\n",
    "\n",
    "def dataGen():\n",
    "    # random_state = 0 set so generated samples are identical\n",
    "    x, y = datasets.make_blobs(n_samples = 100, n_features = 2, centers = 3, random_state = 0)\n",
    "    return x, y\n",
    "\n",
    "def visualizeModel(model):\n",
    "    # Get data\n",
    "    x, y = dataGen()\n",
    "    # Number of data points in meshgrid\n",
    "    n = 100\n",
    "    # Set up evaluation grid\n",
    "    x0 = torch.linspace(min(x[:,0]), max(x[:,0]),n)\n",
    "    x1 = torch.linspace(min(x[:,1]), max(x[:,1]),n)\n",
    "    X0, X1 = torch.meshgrid(x0, x1, indexing = 'ij')\n",
    "    Xgrid = torch.vstack((X0.flatten(),X1.flatten())).T\n",
    "    Ypred = torch.argmax(model(Xgrid), dim = 1)\n",
    "    # Plot data\n",
    "    plt.scatter(x[:,0], x[:,1], c = y, cmap = ListedColormap(['red','blue','magenta']))\n",
    "    # Plot model\n",
    "    plt.contourf(Xgrid[:,0].reshape(n,n), Xgrid[:,1].reshape(n,n), Ypred.reshape(n,n), cmap = ListedColormap(['red', 'blue', 'magenta']), alpha = 0.15)\n",
    "    plt.xlabel('$x_0$')\n",
    "    plt.ylabel('$x_1$')\n",
    "    plt.show()"
   ]
  },
  {
   "attachments": {},
   "cell_type": "markdown",
   "metadata": {},
   "source": [
    "## Generate and visualize the data\n",
    "Use the `dataGen()` function to generate the x and y data, then visualize with a 2D scatter plot, coloring points according to their labels."
   ]
  },
  {
   "cell_type": "code",
   "execution_count": 2,
   "metadata": {},
   "outputs": [],
   "source": [
    "# YOUR CODE GOES HERE\n"
   ]
  },
  {
   "attachments": {},
   "cell_type": "markdown",
   "metadata": {},
   "source": [
    "## Create and train a neural network using PyTorch\n",
    "Choice of structure and training parameters are entirely up to you, however you will need to provide reasoning for your choices. An accuracy of 0.9 or more is reasonable. \n",
    "\n",
    "Hint: think about the number out nodes in your output layer and choice of output layer activation function for this multi-class classification problem."
   ]
  },
  {
   "cell_type": "code",
   "execution_count": 3,
   "metadata": {},
   "outputs": [],
   "source": [
    "# YOUR CODE GOES HERE\n"
   ]
  },
  {
   "attachments": {},
   "cell_type": "markdown",
   "metadata": {},
   "source": [
    "## Visualize your trained model\n",
    "Use the provided `visualizeModel()` function by passing in your trained model to see your models predicted function compared to the provided data"
   ]
  },
  {
   "cell_type": "code",
   "execution_count": 4,
   "metadata": {},
   "outputs": [],
   "source": [
    "# YOUR CODE GOES HERE\n"
   ]
  },
  {
   "attachments": {},
   "cell_type": "markdown",
   "metadata": {},
   "source": [
    "## Discussion\n",
    "Report the accuracy of your trained model on the generated data. Discuss the structure of your network, including the number and size of hidden layers, choice of activation function, loss function, optimizer, learning rate, number of training epochs."
   ]
  },
  {
   "attachments": {},
   "cell_type": "markdown",
   "metadata": {},
   "source": [
    "*YOUR ANSWER GOES HERE*\n"
   ]
  }
 ],
 "metadata": {
  "kernelspec": {
   "display_name": "base",
   "language": "python",
   "name": "python3"
  },
  "language_info": {
   "codemirror_mode": {
    "name": "ipython",
    "version": 3
   },
   "file_extension": ".py",
   "mimetype": "text/x-python",
   "name": "python",
   "nbconvert_exporter": "python",
   "pygments_lexer": "ipython3",
   "version": "3.8.13"
  },
  "orig_nbformat": 4
 },
 "nbformat": 4,
 "nbformat_minor": 2
}
