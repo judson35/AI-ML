{
 "cells": [
  {
   "cell_type": "markdown",
   "metadata": {},
   "source": [
    "# M12-L1 Problem 1\n",
    "\n",
    "This problem is intended to demonstrate PCA on a small 2D dataset. This will emphasize how PCs are computed and what they mean."
   ]
  },
  {
   "cell_type": "code",
   "execution_count": null,
   "metadata": {},
   "outputs": [],
   "source": [
    "import numpy as np\n",
    "import matplotlib.pyplot as plt\n",
    "\n",
    "X = np.array([[2.5, 2.4],[0.5, 0.7],[2.2, 2.9],[1.9, 2.2],[3.1, 3. ],\n",
    "              [2.3, 2.7],[2., 1.6],[1., 1.1],[1.5, 1.6],[1.1, 0.9]])\n"
   ]
  },
  {
   "cell_type": "markdown",
   "metadata": {},
   "source": [
    "## Computing the Principal Components\n",
    "\n",
    "First, compute the principal components of the dataset by following these steps:\n",
    "1. Compute `M` ($1\\times 2$), the mean of each dimension in `X`\n",
    "2. Compute `S` ($2\\times 2$), the covariance matrix of `X` (see `np.cov`)\n",
    "3. Report `w`, the 2 eigenvalues of `S` (see `np.linalg.eig`)\n",
    "4. Get `e1` and `e2`, the eigenvectors corresponding to the elements of `w`\n",
    "\n",
    "The principal components in this problem are then `e1` and `e2`.\n",
    "\n",
    "\n"
   ]
  },
  {
   "cell_type": "code",
   "execution_count": null,
   "metadata": {},
   "outputs": [],
   "source": [
    "print('X:\\n', X)\n",
    "\n",
    "# YOUR CODE GOES HERE: Compute M\n",
    "print('\\nMean of each dimension:\\n', M)\n",
    "\n",
    "# YOUR CODE GOES HERE: Compute S\n",
    "print('\\nCovariance Matrix:\\n', S)\n",
    "\n",
    "\n",
    "# YOUR CODE GOES HERE: Compute w\n",
    "print('\\nEigenvalues of covariance matrix:\\n',w)\n",
    "\n",
    "# YOUR CODE GOES HERE: Compute e1, e2\n",
    "print('\\nPrincipal Components:')\n",
    "print('e1:',e1)\n",
    "print('e2:',e2)"
   ]
  },
  {
   "cell_type": "markdown",
   "metadata": {},
   "source": [
    "## Plotting data with principal components\n",
    "\n",
    "Complete the code below to plot the original data with principal components represented as unit vector arrows."
   ]
  },
  {
   "cell_type": "code",
   "execution_count": null,
   "metadata": {},
   "outputs": [],
   "source": [
    "plt.figure()\n",
    "plt.title(\"Data and PCs\")\n",
    "\n",
    "e1, e2 = e1.flatten(), e2.flatten()\n",
    "plt.arrow(M[0],M[1],e1[0],e1[1], color=\"blue\", linewidth=2, head_width=0.1, head_length=0.1, label=\"$e_1$\")\n",
    "plt.arrow(M[0],M[1],e2[0],e2[1], color=\"green\", linewidth=2, head_width=0.1, head_length=0.1, label=\"$e_2$\")\n",
    "plt.plot(X[:,0],X[:,1],'.',color=\"black\", label=\"Data\")\n",
    "\n",
    "plt.xlabel(\"$x_1$\")\n",
    "plt.ylabel(\"$x_2$\")\n",
    "plt.legend()\n",
    "plt.axis(\"equal\")\n",
    "plt.show()"
   ]
  },
  {
   "cell_type": "markdown",
   "metadata": {},
   "source": [
    "## Plotting transformed data\n",
    "\n",
    "Now, transform the data with the formula $a_i = (x-\\mu)\\bullet e_i$.\n",
    "\n",
    "Print the transformed data matrix columns `a1` and `a2`.\n",
    "\n",
    "Then plot the transformed data on $e_1-e_2$ axes."
   ]
  },
  {
   "cell_type": "code",
   "execution_count": null,
   "metadata": {},
   "outputs": [],
   "source": [
    "# YOUR CODE GOES HERE: Compute a1, a2\n",
    "\n",
    "print(\"a_1 = \",a1)\n",
    "print(\"a_2 = \",a2)\n",
    "\n",
    "plt.figure()\n",
    "plt.title(\"Transformed data\")\n",
    "\n",
    "e1, e2 = e1.flatten(), e2.flatten()\n",
    "# YOUR CODE GOES HERE: Plot transformed data\n",
    "\n",
    "plt.xlabel(\"$e_1$\")\n",
    "plt.ylabel(\"$e_2$\")\n",
    "plt.axis(\"equal\")\n",
    "plt.show()"
   ]
  }
 ],
 "metadata": {
  "kernelspec": {
   "display_name": "aiml_env",
   "language": "python",
   "name": "python3"
  },
  "language_info": {
   "codemirror_mode": {
    "name": "ipython",
    "version": 3
   },
   "file_extension": ".py",
   "mimetype": "text/x-python",
   "name": "python",
   "nbconvert_exporter": "python",
   "pygments_lexer": "ipython3",
   "version": "3.10.11"
  },
  "orig_nbformat": 4
 },
 "nbformat": 4,
 "nbformat_minor": 2
}
