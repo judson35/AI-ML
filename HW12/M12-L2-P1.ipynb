{
 "cells": [
  {
   "cell_type": "markdown",
   "metadata": {},
   "source": [
    "# M12-L1 Problem 2\n",
    "\n",
    "Sometimes the dimensionality is greater than the number of samples. For example,in this problem X has 19 features, but there are only 4 data points. You will need to use the alternate PCA formulation in this case. Follow the steps in the cells below to implement this method."
   ]
  },
  {
   "cell_type": "code",
   "execution_count": 70,
   "metadata": {},
   "outputs": [],
   "source": [
    "import numpy as np\n",
    "import matplotlib.pyplot as plt\n",
    "from sklearn.metrics import mean_squared_error\n",
    "\n",
    "X = np.array([  [-2,  1,  2, -3,  4,  1,  0,  3,  0,  2,  1,  1,  2,  3, -2, -3, 2,  1,  0],\n",
    "                [ 1,  2, -4,  2, -4,  2,  5,  2,  2,  1, -3,  0,  0,  1, -2,  1, 1, -3, -2],\n",
    "                [ 1, -3,  2,  1,  0, -3, -5, -1,  3,  3, -2, -3, -2, -1,  1,  0, 5,  4,  2],\n",
    "                [ 3, -1,  0,  2,  2, -5, -4, -1,  2, -1,  3,  4,  4,  2,  1,  2, -2,  1, -1]])\n"
   ]
  },
  {
   "cell_type": "markdown",
   "metadata": {},
   "source": [
    "## Computing Principal Components\n",
    "\n",
    "### The A matrix\n",
    "\n",
    "First, you should compute the `A` matrix, where A is $(X-\\mu)'$. (Note the transpose)\n",
    "\n",
    "Print this matrix below. It should have size $19\\times 4$."
   ]
  },
  {
   "cell_type": "code",
   "execution_count": 71,
   "metadata": {},
   "outputs": [
    {
     "name": "stdout",
     "output_type": "stream",
     "text": [
      "A = \n",
      " [[-2.75  0.25  0.25  2.25]\n",
      " [ 1.25  2.25 -2.75 -0.75]\n",
      " [ 2.   -4.    2.    0.  ]\n",
      " [-3.5   1.5   0.5   1.5 ]\n",
      " [ 3.5  -4.5  -0.5   1.5 ]\n",
      " [ 2.25  3.25 -1.75 -3.75]\n",
      " [ 1.    6.   -4.   -3.  ]\n",
      " [ 2.25  1.25 -1.75 -1.75]\n",
      " [-1.75  0.25  1.25  0.25]\n",
      " [ 0.75 -0.25  1.75 -2.25]\n",
      " [ 1.25 -2.75 -1.75  3.25]\n",
      " [ 0.5  -0.5  -3.5   3.5 ]\n",
      " [ 1.   -1.   -3.    3.  ]\n",
      " [ 1.75 -0.25 -2.25  0.75]\n",
      " [-1.5  -1.5   1.5   1.5 ]\n",
      " [-3.    1.    0.    2.  ]\n",
      " [ 0.5  -0.5   3.5  -3.5 ]\n",
      " [ 0.25 -3.75  3.25  0.25]\n",
      " [ 0.25 -1.75  2.25 -0.75]]\n"
     ]
    }
   ],
   "source": [
    "A = (X - np.mean(X,axis=0)).T\n",
    "print(\"A = \\n\", A)"
   ]
  },
  {
   "cell_type": "markdown",
   "metadata": {},
   "source": [
    "### \"Small\" covariance matrix\n",
    "\n",
    "By transposing $X-\\mu$ to get $A$, now we can compute a smaller covariance matrix with $A' A$. Compute this matrix, `C`, below and print the result."
   ]
  },
  {
   "cell_type": "code",
   "execution_count": 72,
   "metadata": {},
   "outputs": [
    {
     "name": "stdout",
     "output_type": "stream",
     "text": [
      "C = \n",
      " [[ 69.875 -18.875 -26.375 -24.625]\n",
      " [-18.875 121.375 -53.125 -49.375]\n",
      " [-26.375 -53.125  98.375 -18.875]\n",
      " [-24.625 -49.375 -18.875  92.875]]\n"
     ]
    }
   ],
   "source": [
    "C = A.T@A\n",
    "print(\"C = \\n\", C)"
   ]
  },
  {
   "cell_type": "markdown",
   "metadata": {},
   "source": [
    "### Finding nonzero eigenvectors\n",
    "Next, find the useful (nonzero) eigenvectors of `C`. \n",
    "\n",
    "For validation purposes, there should be 3 useful eigenvectors, and the first one is `[-0.06628148 -0.79038331 0.47285044 0.38381435]`. \n",
    "\n",
    "Keep these eigenvectors in a $4\\times 3$ array `e`."
   ]
  },
  {
   "cell_type": "code",
   "execution_count": 73,
   "metadata": {},
   "outputs": [
    {
     "name": "stdout",
     "output_type": "stream",
     "text": [
      "[[-0.06628148  0.04124587 -0.86249959]\n",
      " [-0.79038331 -0.06822502  0.34733208]\n",
      " [ 0.47285044 -0.69123739  0.22046165]\n",
      " [ 0.38381435  0.71821654  0.29470586]]\n"
     ]
    }
   ],
   "source": [
    "w,v = np.linalg.eig(C)\n",
    "w,v = np.real(w), np.real(v)\n",
    "idx = np.argsort(-w)\n",
    "w,v = w[idx], v[:,idx]\n",
    "e = v[:,0:3]\n",
    "print(e)"
   ]
  },
  {
   "cell_type": "markdown",
   "metadata": {},
   "source": [
    "### Calculating \"eigenfaces\"\n",
    "\n",
    "Now, we have all we need to compute `U`, the matrix of eigenfaces.\n",
    "\n",
    "$\\bf{U}_i = \\bf{A} \\bf{e}_i$  \n",
    "\n",
    "$(19 \\times 3) = (19 \\times 4)(4 \\times 3)$\n",
    "\n",
    "Compute and print U. Be sure to normalize your eigenvectors `e` before using the above equation."
   ]
  },
  {
   "cell_type": "code",
   "execution_count": 74,
   "metadata": {},
   "outputs": [
    {
     "name": "stdout",
     "output_type": "stream",
     "text": [
      "Eigenfaces, U:\n",
      " [[ 0.07294372  0.12277459  0.33008441]\n",
      " [-0.26034151  0.11787331 -0.11677714]\n",
      " [ 0.29998485 -0.09606164 -0.27776956]\n",
      " [-0.01067529  0.04536213  0.42516696]\n",
      " [ 0.27653993  0.17530224 -0.44157072]\n",
      " [-0.37621372 -0.15082188 -0.23925816]\n",
      " [-0.59257956  0.02265222 -0.05657115]\n",
      " [-0.19897063 -0.0037123  -0.250194  ]\n",
      " [ 0.04569305 -0.07236581  0.20213547]\n",
      " [ 0.0084373  -0.25979087 -0.10504274]\n",
      " [ 0.18948616  0.35382298 -0.1518308 ]\n",
      " [ 0.00380575  0.46650428 -0.03585222]\n",
      " [ 0.03449119  0.40571147 -0.10256065]\n",
      " [-0.05241297  0.20419008 -0.19442141]\n",
      " [ 0.19396809  0.00756997  0.16057937]\n",
      " [ 0.01329023  0.11639359  0.36617258]\n",
      " [ 0.0508452  -0.45626561 -0.08985059]\n",
      " [ 0.3456779  -0.16842745 -0.07563409]\n",
      " [ 0.16171488 -0.18371276 -0.0569842 ]]\n"
     ]
    }
   ],
   "source": [
    "U = A @ e\n",
    "U /= np.linalg.norm(U, axis=0)\n",
    "print(\"Eigenfaces, U:\\n\",U)"
   ]
  },
  {
   "cell_type": "markdown",
   "metadata": {},
   "source": [
    "## Projecting data into 3D\n",
    "\n",
    "Now project your data into 3 dimensions with the formula: \n",
    "\n",
    "$\\Omega = U^\\text{T} A $  \n",
    "\n",
    "$(3 \\times 4) = (3 \\times 19)(19 \\times 4)$\n",
    "\n",
    "Call the projected data $\\Omega$ \"`W`\". Print `W.T`"
   ]
  },
  {
   "cell_type": "code",
   "execution_count": 75,
   "metadata": {},
   "outputs": [
    {
     "name": "stdout",
     "output_type": "stream",
     "text": [
      "Projected data in 3 dimensions:\n",
      " [[ -0.8782013    0.44099733  -8.3011616 ]\n",
      " [-10.47224127  -0.72945617   3.34291139]\n",
      " [  6.26506632  -7.39065157   2.12184196]\n",
      " [  5.08537624   7.67911041   2.83640825]]\n"
     ]
    }
   ],
   "source": [
    "W = U.T@A\n",
    "print('Projected data in 3 dimensions:\\n',W.T)"
   ]
  },
  {
   "cell_type": "markdown",
   "metadata": {},
   "source": [
    "## Reconstructing data in 19-D\n",
    "\n",
    "We can project the transformed data `W` back into the original 19-D space using:\n",
    "\n",
    "$\\Gamma_f = U \\Omega + \\Psi$   \n",
    "where:  \n",
    "$\\Gamma_f = $ reconstructed data  \n",
    "$U = $ eigenfaces  \n",
    "$\\Omega = $ Reduced data  \n",
    "$\\Psi = $ Means  \n",
    "\n",
    "Do this, and compute the MSE between each reconstructed sample and corresponding original points. Report all 4 MSE values.\n",
    "\n",
    "\n"
   ]
  },
  {
   "cell_type": "code",
   "execution_count": 76,
   "metadata": {},
   "outputs": [
    {
     "name": "stdout",
     "output_type": "stream",
     "text": [
      "MSE for sample 0: 0.7468836565096959\n",
      "MSE for sample 1: 0.716412742382272\n",
      "MSE for sample 2: 0.7164127423822705\n",
      "MSE for sample 3: 0.691481994459834\n"
     ]
    }
   ],
   "source": [
    "MSE = []\n",
    "reconstructed = (U@W) + np.mean(X,axis=1)\n",
    "mse = np.mean((X - reconstructed.T) **2, axis=1)\n",
    "for i in range(4):\n",
    "    print(f\"MSE for sample {i}: {mse[i]}\")"
   ]
  },
  {
   "cell_type": "markdown",
   "metadata": {},
   "source": [
    "## 2-D Reconstruction\n",
    "\n",
    "\n",
    "What if we had only used the first 2 eigenvectors to compute the eigenfaces?\n",
    "Below, redo the earlier calculations, but use only two eigenfaces. Compute the 4 MSE values that you would get in this case.\n",
    "\n",
    "(You should get an MSE of 3.626 for the first sample.)"
   ]
  },
  {
   "cell_type": "code",
   "execution_count": 78,
   "metadata": {},
   "outputs": [
    {
     "name": "stdout",
     "output_type": "stream",
     "text": [
      "Using only 2 eigenvectors:\n",
      "MSE for sample 0: 3.882784888090766\n",
      "MSE for sample 1: 1.3575824909878655\n",
      "MSE for sample 2: 0.9870175957576055\n",
      "MSE for sample 3: 1.260330232133847\n"
     ]
    }
   ],
   "source": [
    "MSE2 = []\n",
    "U2 = A @ e[:,:2]\n",
    "U2 /= np.linalg.norm(U2, axis=0)\n",
    "W2 = U2.T@A\n",
    "reconstructed = (U2@W2) + np.mean(X,axis=1)\n",
    "print(\"Using only 2 eigenvectors:\")\n",
    "mse = np.mean((X - reconstructed.T) ** 2, axis=1)\n",
    "for i in range(4):\n",
    "    print(f\"MSE for sample {i}: {mse[i]}\")"
   ]
  }
 ],
 "metadata": {
  "kernelspec": {
   "display_name": "aiml_env",
   "language": "python",
   "name": "python3"
  },
  "language_info": {
   "codemirror_mode": {
    "name": "ipython",
    "version": 3
   },
   "file_extension": ".py",
   "mimetype": "text/x-python",
   "name": "python",
   "nbconvert_exporter": "python",
   "pygments_lexer": "ipython3",
   "version": "3.8.5"
  },
  "orig_nbformat": 4
 },
 "nbformat": 4,
 "nbformat_minor": 2
}
