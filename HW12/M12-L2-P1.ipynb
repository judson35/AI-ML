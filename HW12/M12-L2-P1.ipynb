{
 "cells": [
  {
   "cell_type": "markdown",
   "metadata": {},
   "source": [
    "# M12-L1 Problem 2\n",
    "\n",
    "Sometimes the dimensionality is greater than the number of samples. For example,in this problem X has 19 features, but there are only 4 data points. You will need to use the alternate PCA formulation in this case. Follow the steps in the cells below to implement this method."
   ]
  },
  {
   "cell_type": "code",
   "execution_count": null,
   "metadata": {},
   "outputs": [],
   "source": [
    "import numpy as np\n",
    "import matplotlib.pyplot as plt\n",
    "\n",
    "X = np.array([  [-2,  1,  2, -3,  4,  1,  0,  3,  0,  2,  1,  1,  2,  3, -2, -3, 2,  1,  0],\n",
    "                [ 1,  2, -4,  2, -4,  2,  5,  2,  2,  1, -3,  0,  0,  1, -2,  1, 1, -3, -2],\n",
    "                [ 1, -3,  2,  1,  0, -3, -5, -1,  3,  3, -2, -3, -2, -1,  1,  0, 5,  4,  2],\n",
    "                [ 3, -1,  0,  2,  2, -5, -4, -1,  2, -1,  3,  4,  4,  2,  1,  2, -2,  1, -1]])\n"
   ]
  },
  {
   "cell_type": "markdown",
   "metadata": {},
   "source": [
    "## Computing Principal Components\n",
    "\n",
    "### The A matrix\n",
    "\n",
    "First, you should compute the `A` matrix, where A is $(X-\\mu)'$. (Note the transpose)\n",
    "\n",
    "Print this matrix below. It should have size $19\\times 4$."
   ]
  },
  {
   "cell_type": "code",
   "execution_count": null,
   "metadata": {},
   "outputs": [],
   "source": [
    "# YOUR CODE GOES HERE\n",
    "print(\"A = \\n\", A)"
   ]
  },
  {
   "cell_type": "markdown",
   "metadata": {},
   "source": [
    "### \"Small\" covariance matrix\n",
    "\n",
    "By transposing $X-\\mu$ to get $A$, now we can compute a smaller covariance matrix with $A' A$. Compute this matrix, `C`, below and print the result."
   ]
  },
  {
   "cell_type": "code",
   "execution_count": null,
   "metadata": {},
   "outputs": [],
   "source": [
    "# YOUR CODE GOES HERE\n",
    "print(\"C = \\n\", C)"
   ]
  },
  {
   "cell_type": "markdown",
   "metadata": {},
   "source": [
    "### Finding nonzero eigenvectors\n",
    "Next, find the useful (nonzero) eigenvectors of `C`. \n",
    "\n",
    "For validation purposes, there should be 3 useful eigenvectors, and the first one is `[-0.06628148 -0.79038331 0.47285044 0.38381435]`. \n",
    "\n",
    "Keep these eigenvectors in a $4\\times 3$ array `e`."
   ]
  },
  {
   "cell_type": "code",
   "execution_count": null,
   "metadata": {},
   "outputs": [],
   "source": [
    "# YOUR CODE GOES HERE"
   ]
  },
  {
   "cell_type": "markdown",
   "metadata": {},
   "source": [
    "### Calculating \"eigenfaces\"\n",
    "\n",
    "Now, we have all we need to compute `U`, the matrix of eigenfaces.\n",
    "\n",
    "$\\bf{U}_i = \\bf{A} \\bf{e}_i$  \n",
    "\n",
    "$(19 \\times 3) = (19 \\times 4)(4 \\times 3)$\n",
    "\n",
    "Compute and print U. Be sure to normalize your eigenvectors `e` before using the above equation."
   ]
  },
  {
   "cell_type": "code",
   "execution_count": null,
   "metadata": {},
   "outputs": [],
   "source": [
    "# YOUR CODE GOES HERE\n",
    "print(\"Eigenfaces, U:\\n\",U)"
   ]
  },
  {
   "cell_type": "markdown",
   "metadata": {},
   "source": [
    "## Projecting data into 3D\n",
    "\n",
    "Now project your data into 3 dimensions with the formula: \n",
    "\n",
    "$\\Omega = U^\\text{T} A $  \n",
    "\n",
    "$(3 \\times 4) = (3 \\times 19)(19 \\times 4)$\n",
    "\n",
    "Call the projected data $\\Omega$ \"`W`\". Print `W.T`"
   ]
  },
  {
   "cell_type": "code",
   "execution_count": null,
   "metadata": {},
   "outputs": [],
   "source": [
    "# YOUR CODE GOES HERE\n",
    "print('Projected data in 3 dimensions:\\n',W.T)"
   ]
  },
  {
   "cell_type": "markdown",
   "metadata": {},
   "source": [
    "## Reconstructing data in 19-D\n",
    "\n",
    "We can project the transformed data `W` back into the original 19-D space using:\n",
    "\n",
    "$\\Gamma_f = U \\Omega + \\Psi$   \n",
    "where:  \n",
    "$\\Gamma_f = $ reconstructed data  \n",
    "$U = $ eigenfaces  \n",
    "$\\Omega = $ Reduced data  \n",
    "$\\Psi = $ Means  \n",
    "\n",
    "Do this, and compute the MSE between each reconstructed sample and corresponding original points. Report all 4 MSE values.\n",
    "\n",
    "\n"
   ]
  },
  {
   "cell_type": "code",
   "execution_count": null,
   "metadata": {},
   "outputs": [],
   "source": [
    "# YOUR CODE GOES HERE\n",
    "for i in range(4):\n",
    "    print(\"MSE for sample %d: %e\" %(i+1,MSE[i]))"
   ]
  },
  {
   "cell_type": "markdown",
   "metadata": {},
   "source": [
    "## 2-D Reconstruction\n",
    "\n",
    "\n",
    "What if we had only used the first 2 eigenvectors to compute the eigenfaces?\n",
    "Below, redo the earlier calculations, but use only two eigenfaces. Compute the 4 MSE values that you would get in this case.\n",
    "\n",
    "(You should get an MSE of 3.626 for the first sample.)"
   ]
  },
  {
   "cell_type": "code",
   "execution_count": null,
   "metadata": {},
   "outputs": [],
   "source": [
    "# YOUR CODE GOES HERE\n",
    "print(\"Using only 2 eigenvectors:\")\n",
    "for i in range(4):\n",
    "    print(\"MSE for sample %d: %e\" %(i+1,MSE2[i]))"
   ]
  }
 ],
 "metadata": {
  "kernelspec": {
   "display_name": "aiml_env",
   "language": "python",
   "name": "python3"
  },
  "language_info": {
   "codemirror_mode": {
    "name": "ipython",
    "version": 3
   },
   "file_extension": ".py",
   "mimetype": "text/x-python",
   "name": "python",
   "nbconvert_exporter": "python",
   "pygments_lexer": "ipython3",
   "version": "3.10.11"
  },
  "orig_nbformat": 4
 },
 "nbformat": 4,
 "nbformat_minor": 2
}
