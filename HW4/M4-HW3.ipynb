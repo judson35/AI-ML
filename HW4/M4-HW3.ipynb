{
 "cells": [
  {
   "attachments": {},
   "cell_type": "markdown",
   "metadata": {},
   "source": [
    "# Problem 9 (20 points)\n",
    "\n",
    "## Problem Description\n",
    "\n",
    "In this problem you will use `sklearn.svm.SVR` to train a support vector machine for a regression problem. Your model will predict G forces experienced by a sports car as it travels through a chicane in the Nurburgring.\n",
    "\n",
    "Fill out the notebook as instructed, making the requested plots and printing necessary values. \n",
    "\n",
    "*You are welcome to use any of the code provided in the lecture activities.*\n",
    "\n",
    "#### Summary of deliverables:\n",
    "\n",
    "Results:\n",
    "- Plot the fitted SVR function for three different epsilon values\n",
    "- Compute the R2 score for each of the fitted functions\n",
    "\n",
    "Discussion:\n",
    "- Discuss the performance of the models and the effect of epsilon\n",
    "\n",
    "#### Imports and Utility Functions:"
   ]
  },
  {
   "cell_type": "code",
   "execution_count": null,
   "metadata": {},
   "outputs": [],
   "source": [
    "import numpy as np\n",
    "import matplotlib.pyplot as plt\n",
    "from sklearn.svm import SVR\n",
    "\n",
    "def plot_data(X, y, ax = None):\n",
    "    if ax is None:\n",
    "        ax = plt.gca()\n",
    "        showflag = True\n",
    "    else:\n",
    "        showflag = False\n",
    "    ax.scatter(X,y, c = 'blue')\n",
    "    ax.set_xlabel('Normalized Position')\n",
    "    ax.set_ylabel('G Force')\n",
    "    if showflag:\n",
    "        plt.show()\n",
    "    else:\n",
    "        return ax\n",
    "    \n",
    "def plot_svr(model, X, y):\n",
    "    ax = plt.gca()\n",
    "    ax = plot_data(X, y, ax)\n",
    "    xs = np.linspace(min(X), max(X), 1000).reshape(-1,1)\n",
    "    ys = model.predict(xs)\n",
    "    ax.plot(xs,ys,'r-')\n",
    "    plt.legend(['Data', 'Fitted Function'])\n",
    "    plt.show()\n"
   ]
  },
  {
   "attachments": {},
   "cell_type": "markdown",
   "metadata": {},
   "source": [
    "# Load and visualize the data\n",
    "\n",
    "The data is contained in `nurburgring.npy` and can be loaded with `np.load()`. The first column corresponds to the normalized position of the car in the chicane, and the second column corresponds to the measured G force experienced at that point in the chicane.\n",
    "\n",
    "Store the data as:\n",
    "- `X` (Nx1) array of position data\n",
    "- `y` N-dimensional vector of G force data\n",
    "\n",
    "Then visualize the data with `plot_data(X,y)`\n",
    "\n",
    "Note: use X.reshape(-1,1) to make the `X` array two dimensional as required by 'SVR.fit(X,y)'"
   ]
  },
  {
   "cell_type": "code",
   "execution_count": null,
   "metadata": {},
   "outputs": [],
   "source": [
    "# YOUR CODE GOES HERE\n"
   ]
  },
  {
   "attachments": {},
   "cell_type": "markdown",
   "metadata": {},
   "source": [
    "# Train Support Vector Regressors\n",
    "\n",
    "Train three different support vector regressors using the RBF Kernel, C = 100, and epsilon = [1, 5, 10]. For each model, report the coefficient of determination ($R^2$) for the fitted model using the builtin sklearn function} `model.score(X,y)`, and plot the fitted function against the data using `plot_svr(model, X, y)`"
   ]
  },
  {
   "cell_type": "code",
   "execution_count": null,
   "metadata": {},
   "outputs": [],
   "source": [
    "# YOUR CODE GOES HERE\n"
   ]
  },
  {
   "attachments": {},
   "cell_type": "markdown",
   "metadata": {},
   "source": [
    "# Discussion\n",
    "\n",
    "Briefly discuss the performance of the three models, and explain how the value of epsilon influences the fitted model within the context of epsilon insenstive loss introduced in lecture."
   ]
  },
  {
   "attachments": {},
   "cell_type": "markdown",
   "metadata": {},
   "source": []
  }
 ],
 "metadata": {
  "kernelspec": {
   "display_name": "base",
   "language": "python",
   "name": "python3"
  },
  "language_info": {
   "codemirror_mode": {
    "name": "ipython",
    "version": 3
   },
   "file_extension": ".py",
   "mimetype": "text/x-python",
   "name": "python",
   "nbconvert_exporter": "python",
   "pygments_lexer": "ipython3",
   "version": "3.8.13"
  },
  "orig_nbformat": 4
 },
 "nbformat": 4,
 "nbformat_minor": 2
}
