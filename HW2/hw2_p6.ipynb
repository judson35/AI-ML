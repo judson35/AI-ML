{
 "cells": [
  {
   "cell_type": "markdown",
   "metadata": {},
   "source": [
    "# Homework 2 Programming Problem 6 (5 points)\n",
    "\n",
    "When flow is directed across a pin fin heat sink, increasing fluid velocity can improve the heat transfer, making the heat sink more effective. \n",
    "\n",
    "You have been given a dataset containing measurements for such a scenario, which contains the following:\n",
    "- Input: Reynolds Number of air flowing past the heat sink\n",
    "- Output: Heat transfer coefficient of the heat sink, in W/(m $^2$) K\n",
    "\n",
    "Your job is to train a model on this data to predict the heat transfer coefficient, given Reynolds number as input. You will use a high-order polynomial \n",
    "\n",
    "Start by loading the data in the following cell:"
   ]
  },
  {
   "cell_type": "code",
   "execution_count": null,
   "metadata": {},
   "outputs": [],
   "source": [
    "import numpy as np\n",
    "import matplotlib.pyplot as plt\n",
    "\n",
    "def plot_data_with_regression(x_data, y_data, x_reg, y_reg, title=\"\"):\n",
    "    plt.figure()\n",
    "\n",
    "    plt.scatter(x_data.flatten(), y_data.flatten(), label=\"Data\", c=\"black\")\n",
    "    plt.plot(x_reg.flatten(), y_reg.flatten(), label=\"Fit\")\n",
    "\n",
    "    plt.legend(loc=\"upper left\")\n",
    "    plt.xlabel(r\"$Re / 1000$\")\n",
    "    plt.ylabel(r\"h, $W/m^2 K$\")\n",
    "    plt.xlim(0,6)\n",
    "    plt.ylim(50,200)\n",
    "    plt.title(title)\n",
    "    plt.show()\n",
    "\n",
    "deg = 4\n",
    "x = np.array([1.010,2.000,2.990,4.100,5.020])\n",
    "y = np.array([75.1, 104.0,100.6,138.8,150.8])\n",
    "X = np.vander(x,deg+1)\n",
    "\n",
    "xreg = np.linspace(0,6)\n",
    "Xreg = np.vander(xreg,deg+1)"
   ]
  },
  {
   "cell_type": "markdown",
   "metadata": {},
   "source": [
    "## Least Squares Regression\n",
    "As we have done for previous problems, we can do least squares regression by computing the pseudo-inverse of the design matrix.\n",
    "Notice how the model performs beyond the training data."
   ]
  },
  {
   "cell_type": "code",
   "execution_count": null,
   "metadata": {},
   "outputs": [],
   "source": [
    "w = np.linalg.inv(X.T @ X) @ X.T @ y.reshape(-1,1)\n",
    "yreg = Xreg @ w\n",
    "plot_data_with_regression(x, y, xreg, yreg, \"4th order polynomial regression\")"
   ]
  },
  {
   "cell_type": "markdown",
   "metadata": {},
   "source": [
    "## L2 Regularization\n",
    "Notice that the plot above reveals that our fourth-order model is overfitting to the data. Let's try applying L2 regularization to fix this. In the lecture, the closed-form solution to least squares with L2 regularization was:\n",
    "$$w = (X'X + \\lambda I_m)^{-1} X' y $$\n",
    "\n",
    "where $I_m$ is the identity matrix, but with zero in the bias row/column instead of 1; $\\lambda$ is regularization strength; $X'$ is the design matrix and $y$ column vector output.\n",
    "\n",
    "Complete the function below to compute this w for a given lambda:"
   ]
  },
  {
   "cell_type": "code",
   "execution_count": null,
   "metadata": {},
   "outputs": [],
   "source": [
    "def get_regularized_w(L):\n",
    "    I_m = np.eye(deg+1)\n",
    "    I_m[-1,-1] = 0\n",
    "\n",
    "    # YOUR CODE GOES HERE\n",
    "    # return regularized w\n"
   ]
  },
  {
   "cell_type": "markdown",
   "metadata": {},
   "source": [
    "## Testing different lambda values\n",
    "\n",
    "With the above function written, we can compute w for some different values of lambda and decide which is qualitatively best."
   ]
  },
  {
   "cell_type": "code",
   "execution_count": null,
   "metadata": {},
   "outputs": [],
   "source": [
    "for L in [0,.001,0.1,1000]:\n",
    "    w = get_regularized_w(L)\n",
    "    yreg = Xreg @ w\n",
    "    plot_data_with_regression(x, y, xreg, yreg, \n",
    "                              f\"Regression with Regularization, $\\lambda$={L}\")"
   ]
  },
  {
   "cell_type": "markdown",
   "metadata": {},
   "source": [
    "## Model Selection\n",
    "\n",
    "Which value of lambda appears to yield the \"best\" model?"
   ]
  },
  {
   "cell_type": "markdown",
   "metadata": {},
   "source": []
  }
 ],
 "metadata": {
  "kernelspec": {
   "display_name": "Python 3 (ipykernel)",
   "language": "python",
   "name": "python3"
  },
  "language_info": {
   "codemirror_mode": {
    "name": "ipython",
    "version": 3
   },
   "file_extension": ".py",
   "mimetype": "text/x-python",
   "name": "python",
   "nbconvert_exporter": "python",
   "pygments_lexer": "ipython3",
   "version": "3.8.5"
  }
 },
 "nbformat": 4,
 "nbformat_minor": 2
}
