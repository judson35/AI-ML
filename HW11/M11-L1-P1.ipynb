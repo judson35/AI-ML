{
 "cells": [
  {
   "attachments": {},
   "cell_type": "markdown",
   "metadata": {},
   "source": [
    "## M10-L1 Problem 1\n",
    "\n",
    "In this problem you will implement the K-Means algorithm from scratch, and use it to cluster two datasets: a \"blob\" shaped dataset with three classes, and a \"moon\" shaped dataset with two classes."
   ]
  },
  {
   "cell_type": "code",
   "execution_count": 1,
   "metadata": {},
   "outputs": [],
   "source": [
    "import numpy as np\n",
    "import matplotlib.pyplot as plt\n",
    "\n",
    "from sklearn.datasets import make_blobs, make_moons\n",
    "\n",
    "## DO NOT MODIFY\n",
    "def plotter(x, y, labels = None, centers = None):\n",
    "    fig = plt.figure(dpi = 200)\n",
    "    for i in range(len(np.unique(y))):\n",
    "        if labels is not None:\n",
    "            plt.scatter(x[labels == i, 0], x[labels == i, 1], alpha = 0.5)\n",
    "        else:\n",
    "            plt.scatter(x[y == i, 0], x[y == i, 1], alpha = 0.5)\n",
    "    if labels is not None:\n",
    "        if (labels != y).any():\n",
    "            plt.scatter(x[labels != y, 0], x[labels != y, 1], s = 100, c = 'None', edgecolors = 'black', label = 'Misclassified Points')\n",
    "    if centers is not None:\n",
    "        plt.scatter(centers[:,0], centers[:,1], c = 'red', label = 'Cluster Centers')\n",
    "    plt.xlabel('$x_0$')\n",
    "    plt.ylabel('$x_1$')\n",
    "    if labels is not None or centers is not None:\n",
    "        plt.legend()\n",
    "    plt.show()"
   ]
  },
  {
   "attachments": {},
   "cell_type": "markdown",
   "metadata": {},
   "source": [
    "We will use `sklearn.datasets.make_blobs()` to generate the dataset. The `random_state = 12` argument is used to ensure all students have the same data."
   ]
  },
  {
   "cell_type": "code",
   "execution_count": 2,
   "metadata": {},
   "outputs": [],
   "source": [
    "## DO NOT MODIFY\n",
    "x, y = make_blobs(n_samples = 300, n_features = 2, random_state = 12)"
   ]
  },
  {
   "attachments": {},
   "cell_type": "markdown",
   "metadata": {},
   "source": [
    "Visualize the data using the `plotter(x,y)` function. You do not need to pass the `labels` or `centers` arguments"
   ]
  },
  {
   "cell_type": "code",
   "execution_count": 3,
   "metadata": {},
   "outputs": [],
   "source": [
    "## YOUR CODE GOES HERE"
   ]
  },
  {
   "attachments": {},
   "cell_type": "markdown",
   "metadata": {},
   "source": [
    "Now we will begin to create our own K-Means function. \n",
    "\n",
    "First you will write a function `find_cluster(point, centers)` which returns the index of the cluster center closest to the given point.\n",
    "- `point` is a one dimensional numpy array containing the $x_0$ and $x_1$ coordinates of a single data point\n",
    "- `centers` is a $3 \\times 2$ numpy array containing the coordinates of the three cluster centers at any given iteration\n",
    "- **return** the index of the closest cluster center"
   ]
  },
  {
   "cell_type": "code",
   "execution_count": 4,
   "metadata": {},
   "outputs": [],
   "source": [
    "## FILL IN THE FOLLOWING FUNCTION\n",
    "def find_cluster(point, centers):\n",
    "    pass"
   ]
  },
  {
   "attachments": {},
   "cell_type": "markdown",
   "metadata": {},
   "source": [
    "Next, write a function `assign_labels(x, centers)` which will loop through all the points in `x` and use the `find_cluster()` function we just wrote to assign the label of the closest cluster center. Your function should return the labels\n",
    "- `x` is a $300 \\times 2$ numpy array containing the coordinates of all the points in the dataset\n",
    "- `centers` is a $3 \\times 2$ numpy array containing the coordinates of the three cluster centers at any given iteration\n",
    "- **return** a one dimensional numpy array of length $300$ containing the corresponding label for each point in `x`"
   ]
  },
  {
   "cell_type": "code",
   "execution_count": 5,
   "metadata": {},
   "outputs": [],
   "source": [
    "## FILL IN THE FOLLOWING FUNCTION\n",
    "def assign_labels(x, centers):\n",
    "    pass"
   ]
  },
  {
   "attachments": {},
   "cell_type": "markdown",
   "metadata": {},
   "source": [
    "Next, write a function `update_centers(x, labels)` which will compute the new cluster centers using the centroid of each cluster, provided all the points in `x` and their corresponding labels\n",
    "- `x` is a $300 \\times 2$ numpy array containing the coordinates of all the points in the dataset\n",
    "- `labels` is a one dimensional numpy array of length $300$ containing the corresponding label for each point in `x`\n",
    "- **return** a $3 \\times 2$ numpy array containing the coordinates of the three cluster centers"
   ]
  },
  {
   "cell_type": "code",
   "execution_count": 6,
   "metadata": {},
   "outputs": [],
   "source": [
    "## FILL IN THE FOLLOWING FUNCTION\n",
    "def update_centers(x, labels):\n",
    "    pass"
   ]
  },
  {
   "attachments": {},
   "cell_type": "markdown",
   "metadata": {},
   "source": [
    "Finally write a function `myKMeans(x, init_centers)` which will run the KMeans algorithm, provided all the points in `x` and the coordinates of the initial cluster centers in `init_centers`. Run the algorithm until there is no change in cluster membership in subsequent iterations. Your function should return both the `labels`, the labels of each point in x, and `centers`, the final coordinates of each of the cluster centers.\n",
    "- `x` is a $300 \\times 2$ numpy array containing the coordinates of all the points in the dataset\n",
    "- `init_centers` is a $3 \\times 2$ numpy array containing the coordinates of the three cluster centers provided to you\n",
    "- **return** `labels` and `centers` as defined above"
   ]
  },
  {
   "cell_type": "code",
   "execution_count": 7,
   "metadata": {},
   "outputs": [],
   "source": [
    "## FILL IN THE FOLLOWING FUNCTION\n",
    "def myKMeans(x, init_centers):\n",
    "    pass"
   ]
  },
  {
   "attachments": {},
   "cell_type": "markdown",
   "metadata": {},
   "source": [
    "Now use your `myKMeans()` function to cluster the provided data points `x` and set the initial cluster centers as `init_centers = np.array([[-5,5],[0,0],[-10,10]])`. Then use the provided plotting function, `plotter(x,y,labels,centers)` to visualize your model's clustering."
   ]
  },
  {
   "cell_type": "code",
   "execution_count": 8,
   "metadata": {},
   "outputs": [],
   "source": [
    "## YOUR CODE GOES HERE"
   ]
  },
  {
   "attachments": {},
   "cell_type": "markdown",
   "metadata": {},
   "source": [
    "## Moon Dataset\n",
    "\n",
    "Now we will try using our `myKMeans()` function on a more challenging dataset, as generated below."
   ]
  },
  {
   "cell_type": "code",
   "execution_count": 9,
   "metadata": {},
   "outputs": [],
   "source": [
    "## DO NOT MODIFY\n",
    "x,y = make_moons(n_samples = 300, noise = 0.1, random_state = 0)"
   ]
  },
  {
   "attachments": {},
   "cell_type": "markdown",
   "metadata": {},
   "source": [
    "Visualize the data using the `plotter(x,y)` function."
   ]
  },
  {
   "cell_type": "code",
   "execution_count": 10,
   "metadata": {},
   "outputs": [],
   "source": [
    "## YOUR CODE GOES HERE"
   ]
  },
  {
   "attachments": {},
   "cell_type": "markdown",
   "metadata": {},
   "source": [
    "Using your `myKMeans()` function and `init_centers = np.array([[0,1],[1,-0.5]])` cluster the data, and visualize the results using `plotter(x,y,labels,centers)`."
   ]
  },
  {
   "cell_type": "code",
   "execution_count": 11,
   "metadata": {},
   "outputs": [],
   "source": [
    "## YOUR CODE GOES HERE"
   ]
  }
 ],
 "metadata": {
  "kernelspec": {
   "display_name": "base",
   "language": "python",
   "name": "python3"
  },
  "language_info": {
   "codemirror_mode": {
    "name": "ipython",
    "version": 3
   },
   "file_extension": ".py",
   "mimetype": "text/x-python",
   "name": "python",
   "nbconvert_exporter": "python",
   "pygments_lexer": "ipython3",
   "version": "3.8.13"
  },
  "orig_nbformat": 4
 },
 "nbformat": 4,
 "nbformat_minor": 2
}
