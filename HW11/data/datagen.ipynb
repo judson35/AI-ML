{
 "cells": [
  {
   "cell_type": "code",
   "execution_count": 1,
   "metadata": {},
   "outputs": [],
   "source": [
    "import numpy as np\n",
    "\n",
    "import matplotlib.pyplot as plt\n",
    "plt.rcParams['figure.dpi'] = 200"
   ]
  },
  {
   "cell_type": "code",
   "execution_count": 2,
   "metadata": {},
   "outputs": [],
   "source": [
    "import numpy as np\n",
    "\n",
    "def generate_blob_clusters(dim, clusters):\n",
    "    bitmap = np.zeros((dim, dim), dtype=np.uint8)\n",
    "    \n",
    "    def generate_cluster(mean, covariance, num_points):\n",
    "        points = np.random.multivariate_normal(mean, covariance, num_points).astype(int)\n",
    "        points = np.clip(points, 0, min(dim, dim) - 1)\n",
    "        for point in points:\n",
    "            bitmap[point[1], point[0]] = 1\n",
    "    \n",
    "    for cluster in clusters:\n",
    "        mean, covariance, num_points = cluster\n",
    "        generate_cluster(mean, covariance, num_points)\n",
    "    \n",
    "    return bitmap\n",
    "\n",
    "def plot_image(bitmap):\n",
    "    fig, ax = plt.subplots(figsize=(3,3))\n",
    "    ax.imshow(bitmap, cmap=ListedColormap(['black', 'white']), origin = 'lower')\n",
    "    ax.axis('off')\n",
    "    plt.show()\n",
    "\n",
    "def bitmap_to_points(bitmap):\n",
    "    rows, cols = np.where(bitmap == 1)\n",
    "    # Flip rows and cols\n",
    "    coordinates = np.column_stack((cols, rows))\n",
    "    return coordinates\n",
    "\n",
    "def points_to_bitmap(coordinates):\n",
    "    bitmap = np.zeros((64, 64), dtype=int)\n",
    "    cols, rows = coordinates[:, 0], coordinates[:, 1]\n",
    "    bitmap[rows, cols] = 1\n",
    "    return bitmap\n",
    "\n",
    "from matplotlib.colors import ListedColormap\n",
    "\n",
    "def plot_dbscan(bitmap):\n",
    "    cmap = ListedColormap(['red','orange',...])\n",
    "    plt.imshow(bitmap, cmap)"
   ]
  },
  {
   "cell_type": "code",
   "execution_count": 3,
   "metadata": {},
   "outputs": [
    {
     "name": "stderr",
     "output_type": "stream",
     "text": [
      "/var/folders/0b/4n63720j2l3gqwvs51lbcjg80000gn/T/ipykernel_17828/3622907792.py:7: RuntimeWarning: covariance is not positive-semidefinite.\n",
      "  points = np.random.multivariate_normal(mean, covariance, num_points).astype(int)\n"
     ]
    },
    {
     "data": {
      "image/png": "[encoded data removed]",
      "text/plain": [
       "<Figure size 600x600 with 1 Axes>"
      ]
     },
     "metadata": {
      "needs_background": "light"
     },
     "output_type": "display_data"
    }
   ],
   "source": [
    "dim = 64\n",
    "\n",
    "# Specify the clusters as a list of tuples: (mean, covariance, num_points)\n",
    "clusters = [\n",
    "    ((10, 10), [[5, 0], [0,5]], 100),\n",
    "    ((15, 30), [[15, 5], [5, 15]], 150),\n",
    "    ((32, 32), [[10,20], [20,100]], 800),\n",
    "    ((50, 20), [[40,20], [10,10]], 150),\n",
    "    ((10, 55), [[5,0], [0,5]],50)\n",
    "]\n",
    "\n",
    "bitmap = generate_blob_clusters(dim, clusters)\n",
    "\n",
    "plot_image(bitmap)"
   ]
  },
  {
   "cell_type": "code",
   "execution_count": 4,
   "metadata": {},
   "outputs": [],
   "source": [
    "x = bitmap_to_points(bitmap)\n",
    "\n",
    "np.savetxt('m11-hw1-data1.txt', x, fmt='%d')\n"
   ]
  },
  {
   "cell_type": "code",
   "execution_count": 5,
   "metadata": {},
   "outputs": [
    {
     "name": "stderr",
     "output_type": "stream",
     "text": [
      "/var/folders/0b/4n63720j2l3gqwvs51lbcjg80000gn/T/ipykernel_17828/3622907792.py:7: RuntimeWarning: covariance is not positive-semidefinite.\n",
      "  points = np.random.multivariate_normal(mean, covariance, num_points).astype(int)\n"
     ]
    },
    {
     "data": {
      "image/png": "[encoded data removed]",
      "text/plain": [
       "<Figure size 600x600 with 1 Axes>"
      ]
     },
     "metadata": {
      "needs_background": "light"
     },
     "output_type": "display_data"
    }
   ],
   "source": [
    "dim = 64\n",
    "\n",
    "# Specify the clusters as a list of tuples: (mean, covariance, num_points)\n",
    "clusters = [\n",
    "    ((20, 10), [[5, 0], [0,5]], 150),\n",
    "    ((15, 40), [[15, 5], [5, 15]], 200),\n",
    "    ((32, 32), [[70,-80], [10,10]], 1000),\n",
    "]\n",
    "\n",
    "bitmap = generate_blob_clusters(dim, clusters)\n",
    "\n",
    "plot_image(bitmap)"
   ]
  },
  {
   "cell_type": "code",
   "execution_count": 6,
   "metadata": {},
   "outputs": [],
   "source": [
    "x = bitmap_to_points(bitmap)\n",
    "\n",
    "np.savetxt('m11-hw1-data2.txt', x, fmt='%d')"
   ]
  }
 ],
 "metadata": {
  "kernelspec": {
   "display_name": "base",
   "language": "python",
   "name": "python3"
  },
  "language_info": {
   "codemirror_mode": {
    "name": "ipython",
    "version": 3
   },
   "file_extension": ".py",
   "mimetype": "text/x-python",
   "name": "python",
   "nbconvert_exporter": "python",
   "pygments_lexer": "ipython3",
   "version": "3.8.13"
  },
  "orig_nbformat": 4
 },
 "nbformat": 4,
 "nbformat_minor": 2
}
