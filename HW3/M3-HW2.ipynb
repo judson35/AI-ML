{
 "cells": [
  {
   "attachments": {},
   "cell_type": "markdown",
   "metadata": {},
   "source": [
    "# Problem 8 (20 Points)\n",
    "\n",
    "## Problem Description\n",
    "\n",
    "Several molecular dynamics simulations have been carried out for a material, and the phase (solid/liquid/vapor) at different temperature/pressure combinations has been recorded.\n",
    "\n",
    "You will use gradient descent to train a One-vs-Rest logistic regression model on data with 3 classes. Fill out the notebook as instructed, making the requested plots and printing necessary values. \n",
    "\n",
    "*You are welcome to use any of the code provided in the previous problems.*\n",
    "\n",
    "#### Summary of deliverables:\n",
    "- 3 binomial classification `w` vectors, corresponding to each class\n",
    "- Function `classify(xy)` that evaluates all 3 models at a given array of points, returning the class prediction as the model with the highest probability\n",
    "- Print model percent classification accuracy on the training data\n",
    "- Print model percent classification accuracy on the testing data\n",
    "- Plot that shows the training data as data points, along with the class of a grid of points in the background, as in the lecture activity.\n",
    "\n",
    "### Imports and Utility Functions:"
   ]
  },
  {
   "cell_type": "code",
   "execution_count": null,
   "metadata": {},
   "outputs": [],
   "source": [
    "import numpy as np\n",
    "import matplotlib.pyplot as plt\n",
    "from matplotlib.colors import ListedColormap\n",
    "\n",
    "def plot_data(x, y, c,title=\"Phase of simulated material\"):\n",
    "    xlim = [0,52.5]\n",
    "    ylim = [0,1.05]\n",
    "    markers = [dict(marker=\"o\", color=\"royalblue\"), dict(marker=\"s\", color=\"crimson\"), dict(marker=\"^\", color=\"limegreen\")]\n",
    "    labels = [\"Solid\", \"Liquid\", \"Vapor\"]\n",
    "\n",
    "    plt.figure(dpi=150)\n",
    "\n",
    "    for i in range(1+max(c)):\n",
    "        plt.scatter(x[c==i], y[c==i], s=60, **(markers[i]), edgecolor=\"black\", linewidths=0.4,label=labels[i])\n",
    "\n",
    "    plt.title(title)\n",
    "    plt.legend(loc=\"upper right\")\n",
    "    plt.xlim(xlim)\n",
    "    plt.ylim(ylim)\n",
    "    plt.xlabel(\"Temperature, K\")\n",
    "    plt.ylabel(\"Pressure, atm\")\n",
    "    plt.box(True)\n",
    "\n",
    "def plot_colors(classify, res=40):\n",
    "    xlim = [0,52.5]\n",
    "    ylim = [0,1.05]\n",
    "    xvals = np.linspace(*xlim,res)\n",
    "    yvals = np.linspace(*ylim,res)\n",
    "    x,y = np.meshgrid(xvals,yvals)\n",
    "    XY = np.concatenate((x.reshape(-1,1),y.reshape(-1,1)),axis=1)\n",
    "\n",
    "    color = classify(XY).reshape(res,res)\n",
    "\n",
    "    cmap = ListedColormap([\"lightblue\",\"lightcoral\",\"palegreen\"])\n",
    "    plt.pcolor(x, y, color, shading=\"nearest\", zorder=-1, cmap=cmap,vmin=0,vmax=2)\n",
    "    return"
   ]
  },
  {
   "attachments": {},
   "cell_type": "markdown",
   "metadata": {},
   "source": [
    "## Load Data\n",
    "This cell loads the dataset into the following variables:\n",
    "- `train_data`: Nx2 array of input features, used for training\n",
    "- `train_gt`: Array of ground-truth classes for each point in `train_data`\n",
    "- `test_data`: Nx2 array of input features, used for testing\n",
    "- `test_gt`: Array of ground-truth classes for each point in `test_data`\n",
    "\n",
    "In the class arrays, 0 = solid, 1 = liquid, 2 = vapor."
   ]
  },
  {
   "cell_type": "code",
   "execution_count": null,
   "metadata": {},
   "outputs": [],
   "source": [
    "train = np.load(\"data/w3-hw2-data-train.npy\")\n",
    "test = np.load(\"data/w3-hw2-data-test.npy\")\n",
    "train_data, train_gt = train[:,:2], train[:,2].astype(int)\n",
    "test_data, test_gt = test[:,:2], test[:,2].astype(int)\n",
    "plot_data(train_data[:,0], train_data[:,1],train_gt)"
   ]
  },
  {
   "attachments": {},
   "cell_type": "markdown",
   "metadata": {},
   "source": [
    "## Gradient Descent\n",
    "\n",
    "Here, write all of the necessary code to perform gradient descent and train 3 logistic regression models for a 1-vs-rest scenario. Use linear decision boundaries (features should only be 1, temperature, pressure)\n",
    "\n",
    "\n",
    "Feel free to reuse code from the first problem or lecture activities.\n",
    "\n",
    "We have provided the following function to help with the one-vs-all method:  \n",
    "\n",
    "`convert_to_binary_dataset(classes, A)`:\n",
    "- Input: data, Nx2 array of temperature-pressure data\n",
    "- Input: classes, array (size N) of class values for each point in `data`\n",
    "- Input: A, the class (0, 1, or 2 here) to use as '1' in the binary dataset\n",
    "- Returns: `classes_binary`, copy of classes where class A is 1, and all other classes are 0.\n",
    "\n"
   ]
  },
  {
   "cell_type": "code",
   "execution_count": null,
   "metadata": {},
   "outputs": [],
   "source": [
    "def convert_to_binary_dataset(classes, A):\n",
    "    classes_binary = (classes == A).astype(int)\n",
    "    return classes_binary"
   ]
  },
  {
   "cell_type": "code",
   "execution_count": null,
   "metadata": {},
   "outputs": [],
   "source": [
    "# YOUR CODE GOES HERE (gradient descent and related functions)"
   ]
  },
  {
   "attachments": {},
   "cell_type": "markdown",
   "metadata": {},
   "source": [
    "# Training\n",
    "Train your 3 models and print the `w` vector corresponding to each class"
   ]
  },
  {
   "cell_type": "code",
   "execution_count": null,
   "metadata": {},
   "outputs": [],
   "source": [
    "# YOUR CODE GOES HERE (training)\n",
    "\n",
    "# YOUR CODE GOES HERE (print \"w\"s)\n"
   ]
  },
  {
   "attachments": {},
   "cell_type": "markdown",
   "metadata": {},
   "source": [
    "## Classification function\n",
    "Write a function `classify(xy)` that will evaluate each model and select the appropriate class.\n"
   ]
  },
  {
   "cell_type": "code",
   "execution_count": null,
   "metadata": {},
   "outputs": [],
   "source": [
    "def classify(xy):\n",
    "    # YOUR CODE GOES HERE\n",
    "    return"
   ]
  },
  {
   "attachments": {},
   "cell_type": "markdown",
   "metadata": {},
   "source": [
    "## Accuracy\n",
    "Compute and print the accuracy on the training and testing sets as a percent"
   ]
  },
  {
   "cell_type": "code",
   "execution_count": null,
   "metadata": {},
   "outputs": [],
   "source": [
    "# YOUR CODE GOES HERE (accuracy)"
   ]
  },
  {
   "attachments": {},
   "cell_type": "markdown",
   "metadata": {},
   "source": [
    "## Plot results\n",
    "Run this cell to visualize the data along with the results of `classify()`"
   ]
  },
  {
   "cell_type": "code",
   "execution_count": null,
   "metadata": {},
   "outputs": [],
   "source": [
    "plot_data(train_data[:,0], train_data[:,1], train_gt)\n",
    "plot_colors(classify)"
   ]
  }
 ],
 "metadata": {
  "kernelspec": {
   "display_name": "torch_env",
   "language": "python",
   "name": "python3"
  },
  "language_info": {
   "codemirror_mode": {
    "name": "ipython",
    "version": 3
   },
   "file_extension": ".py",
   "mimetype": "text/x-python",
   "name": "python",
   "nbconvert_exporter": "python",
   "pygments_lexer": "ipython3",
   "version": "3.9.7"
  },
  "orig_nbformat": 4
 },
 "nbformat": 4,
 "nbformat_minor": 2
}
