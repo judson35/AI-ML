{
 "cells": [
  {
   "attachments": {},
   "cell_type": "markdown",
   "metadata": {},
   "source": [
    "# Problem 7 (20 points)\n",
    "\n",
    "## Problem Description\n",
    "A projectile is launched with input x- and y-velocity components. A dataset is provided, which contains launch velocity components as input and whether a target was hit (0/1) as an output. This data has a nonlinear decision boundary. \n",
    "\n",
    "You will use gradient descent to train a logistic regression model on the dataset to predict whether any given launch velocity will hit the target.\n",
    "\n",
    "\n",
    "\n",
    "Fill out the notebook as instructed, making the requested plots and printing necessary values. \n",
    "\n",
    "*You are welcome to use any of the code provided in the previous problems.*\n",
    "\n",
    "#### Summary of deliverables:\n",
    "Functions (described in later section)\n",
    "- `sigmoid(h)`\n",
    "- `map_features(data)`\n",
    "- `loss(data,y,w)`\n",
    "- `grad_loss(data,y,w)`\n",
    "- `grad_desc(data, y, w0, iterations, stepsize)`\n",
    "\n",
    "Results:\n",
    "- Print final `w` after training on the training data\n",
    "- Plot of loss throughout training\n",
    "- Print model percent classification accuracy on the training data\n",
    "- Print model percent classification accuracy on the testing data\n",
    "- Plot that shows the training data as data points, along with a decision boundary\n",
    "\n",
    "#### Imports and Utility Functions:\n"
   ]
  },
  {
   "cell_type": "code",
   "execution_count": null,
   "metadata": {},
   "outputs": [],
   "source": [
    "import numpy as np\n",
    "import matplotlib.pyplot as plt\n",
    "\n",
    "def plot_data(data, c, title=\"\", xlabel=\"$x_1$\",ylabel=\"$x_2$\",classes=[\"\",\"\"],alpha=1):\n",
    "    N = len(c)\n",
    "    colors = ['royalblue','crimson']\n",
    "    symbols = ['o','s']\n",
    "    \n",
    "    plt.figure(figsize=(5,5),dpi=120)\n",
    "\n",
    "    for i in range(2):\n",
    "        x = data[:,0][c==i]\n",
    "        y = data[:,1][c==i]\n",
    "\n",
    "        plt.scatter(x,y,color=colors[i],marker=symbols[i],edgecolor=\"black\",linewidths=0.4,label=classes[i],alpha=alpha)\n",
    "\n",
    "    plt.legend(loc=\"upper right\")\n",
    "    plt.xlabel(xlabel)\n",
    "    plt.ylabel(ylabel)\n",
    "    ax = plt.gca()\n",
    "    plt.xlim([-0.05,1.05])\n",
    "    plt.ylim([-0.05,1.05])\n",
    "    plt.title(title)\n",
    "\n",
    "def plot_contour(w):\n",
    "    res = 500\n",
    "    vals = np.linspace(-0.05,1.05,res)\n",
    "    x,y = np.meshgrid(vals,vals)\n",
    "    XY = np.concatenate((x.reshape(-1,1),y.reshape(-1,1)),axis=1)\n",
    "    prob = sigmoid(map_features(XY) @ w.reshape(-1,1))\n",
    "    pred = np.round(prob.reshape(res, res))\n",
    "    plt.contour(x, y, pred)\n"
   ]
  },
  {
   "attachments": {},
   "cell_type": "markdown",
   "metadata": {},
   "source": [
    "## Load Data\n",
    "This cell loads the dataset into the following variables:\n",
    "- `train_data`: Nx2 array of input features, used for training\n",
    "- `train_gt`: Array of ground-truth classes for each point in `train_data`\n",
    "- `test_data`: Nx2 array of input features, used for testing\n",
    "- `test_gt`: Array of ground-truth classes for each point in `test_data`\n",
    "\n"
   ]
  },
  {
   "cell_type": "code",
   "execution_count": null,
   "metadata": {},
   "outputs": [],
   "source": [
    "train = np.load(\"data/w3-hw1-data-train.npy\")\n",
    "test = np.load(\"data/w3-hw1-data-test.npy\")\n",
    "train_data, train_gt = train[:,:2], train[:,2]\n",
    "test_data, test_gt = test[:,:2], test[:,2]\n",
    "format = dict(xlabel=\"x-velocity m/s\", ylabel=\"y-velocity, m/s\", classes=[\"0 - Missed Target\",\"1 - Hit Target\"])\n",
    "plot_data(train_data, train_gt, **format)"
   ]
  },
  {
   "attachments": {},
   "cell_type": "markdown",
   "metadata": {},
   "source": [
    "## Helper Functions\n",
    "Here, implement the following functions:  \n",
    "\n",
    "**`sigmoid(h)`**:\n",
    "- Input: `h`, single value or array of values\n",
    "- Returns: The sigmoid of h (or each value in h)\n",
    "\n",
    "**`map_features(data)`**:\n",
    "- Input: `data`, Nx2 array with rows $(x_i,y_i)$\n",
    "- Returns: Nx45 array, each row with $(1, x_i,\\; y_i,\\; x_i^2,\\; x_i y_i,\\; y_i^2,\\; x_i^3,\\; x_i^2 y_i,\\; ...)$ with all terms through 8th-order\n",
    "\n",
    "**`loss(data, y, w)`**:\n",
    "- Input: `data`, Nx2 array of un-transformed input features\n",
    "- Input: `y`, Ground truth class for each input\n",
    "- Input: `w`, Array with 45 weights\n",
    "- Returns: Loss: $ L(x,y,w) = \\sum_{i=1}^n -y^{(i)} \\cdot \\ln(g(w'x^{(i)})) - (1 - y^{(i)}) \\cdot \\ln(1 - g(w'x^{(i)})) $\n",
    "\n",
    "**`grad_loss(data, y, w)`**:\n",
    "- Input: `data`, Nx2 array of un-transformed input features\n",
    "- Input: `y`, Ground truth class for each input\n",
    "- Input: `w`, Array with 45 weights\n",
    "- Returns: Gradient of loss with respect to weights: $ \\frac{\\partial L}{w_j} = \\sum_{i=1}^n (g(w'x^{(i)}) - y^{(i)}) x_j^{(i)} $\n"
   ]
  },
  {
   "cell_type": "code",
   "execution_count": null,
   "metadata": {},
   "outputs": [],
   "source": [
    "# YOUR CODE GOES HERE"
   ]
  },
  {
   "attachments": {},
   "cell_type": "markdown",
   "metadata": {},
   "source": [
    "## Gradient Descent\n",
    "Now, write a gradient descent function with the following specifications:  \n",
    "\n",
    "\n",
    "**`grad_desc(data, y, w0, iterations, stepsize)`**:\n",
    "- Input: `data`, Nx2 array of un-transformed input features\n",
    "- Input: `y`, array of size N with ground-truth class for each input\n",
    "- Input: `w0`, array of weights to use as an initial guess (size)\n",
    "- Input `iterations`, number of iterations of gradient descent to perform\n",
    "- Input: `stepsize`, size of each gradient descent step\n",
    "- Return: Final `w` array after last iteration\n",
    "- Return: Array containing loss values at each iteration\n"
   ]
  },
  {
   "cell_type": "code",
   "execution_count": null,
   "metadata": {},
   "outputs": [],
   "source": [
    "# YOUR CODE GOES HERE"
   ]
  },
  {
   "attachments": {},
   "cell_type": "markdown",
   "metadata": {},
   "source": [
    "### Training\n",
    "\n",
    "Run your gradient descent function and plot the loss as it converges. You may have to tune the step size and iteration count.\n",
    "\n",
    "Also print the final vector `w`."
   ]
  },
  {
   "cell_type": "code",
   "execution_count": null,
   "metadata": {},
   "outputs": [],
   "source": [
    "# YOUR CODE GOES HERE (training)"
   ]
  },
  {
   "cell_type": "code",
   "execution_count": null,
   "metadata": {},
   "outputs": [],
   "source": [
    "# YOUR CODE GOES HERE (loss plot, print w)"
   ]
  },
  {
   "attachments": {},
   "cell_type": "markdown",
   "metadata": {},
   "source": [
    "## Accuracy\n",
    "Compute the accuracy of the model, as a percent, for both the training data and testing data"
   ]
  },
  {
   "cell_type": "code",
   "execution_count": null,
   "metadata": {},
   "outputs": [],
   "source": [
    "# YOUR CODE GOES HERE"
   ]
  },
  {
   "attachments": {},
   "cell_type": "markdown",
   "metadata": {},
   "source": [
    "## Visualize Results\n",
    "\n",
    "Use the provided plotting utilities to plot the decision boundary with the data.\n"
   ]
  },
  {
   "cell_type": "code",
   "execution_count": null,
   "metadata": {},
   "outputs": [],
   "source": [
    "# You may have to modify this code, i.e. if you named 'w' differently)\n",
    "plot_data(train_data, train_gt, **format)\n",
    "plot_contour(w)"
   ]
  }
 ],
 "metadata": {
  "kernelspec": {
   "display_name": "torch_env",
   "language": "python",
   "name": "python3"
  },
  "language_info": {
   "codemirror_mode": {
    "name": "ipython",
    "version": 3
   },
   "file_extension": ".py",
   "mimetype": "text/x-python",
   "name": "python",
   "nbconvert_exporter": "python",
   "pygments_lexer": "ipython3",
   "version": "3.9.7"
  },
  "orig_nbformat": 4
 },
 "nbformat": 4,
 "nbformat_minor": 2
}
