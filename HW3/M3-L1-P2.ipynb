{
 "cells": [
  {
   "cell_type": "markdown",
   "metadata": {},
   "source": [
    "# Problem 2 (5 points)"
   ]
  },
  {
   "cell_type": "code",
   "execution_count": null,
   "metadata": {},
   "outputs": [],
   "source": [
    "import numpy as np\n",
    "import matplotlib.pyplot as plt\n",
    "\n",
    "\n",
    "def plot_data(data, c, title=\"\", xlabel=\"$x_1$\",ylabel=\"$x_2$\",classes=[\"\",\"\"],alpha=1):\n",
    "    N = len(c)\n",
    "    colors = ['royalblue','crimson']\n",
    "    symbols = ['o','s']\n",
    "    \n",
    "    plt.figure(figsize=(5,5),dpi=120)\n",
    "\n",
    "    for i in range(2):\n",
    "        x = data[:,0][c==i]\n",
    "        y = data[:,1][c==i]\n",
    "\n",
    "        plt.scatter(x,y,color=colors[i],marker=symbols[i],edgecolor=\"black\",linewidths=0.4,label=classes[i],alpha=alpha)\n",
    "\n",
    "    plt.legend(loc=\"upper right\")\n",
    "    plt.xlabel(xlabel)\n",
    "    plt.ylabel(ylabel)\n",
    "    ax = plt.gca()\n",
    "    ax.set_xticklabels([])\n",
    "    ax.set_yticklabels([])\n",
    "    plt.xlim([-0.05,1.05])\n",
    "    plt.ylim([-0.05,1.05])\n",
    "    plt.title(title)\n",
    "\n",
    "def plot_contour(predict, mapXY = None):\n",
    "    res = 500\n",
    "    vals = np.linspace(-0.05,1.05,res)\n",
    "    x,y = np.meshgrid(vals,vals)\n",
    "    XY = np.concatenate((x.reshape(-1,1),y.reshape(-1,1)),axis=1)\n",
    "    if mapXY is not None:\n",
    "        XY = mapXY(XY)\n",
    "    contour = predict(XY).reshape(res, res)\n",
    "    plt.contour(x, y, contour)\n"
   ]
  },
  {
   "attachments": {},
   "cell_type": "markdown",
   "metadata": {},
   "source": [
    "## Generate Dataset\n",
    "#### (Don't edit this code.)"
   ]
  },
  {
   "cell_type": "code",
   "execution_count": null,
   "metadata": {},
   "outputs": [],
   "source": [
    "def get_line_dataset():\n",
    "    np.random.seed(4)\n",
    "    x = np.random.rand(90)\n",
    "    y = np.random.rand(90)\n",
    "\n",
    "    h = 1/.9*x + 1/0.9*y - 1\n",
    "\n",
    "    d = 0.1\n",
    "    x1, y1 = x[h<-d], y[h<-d]\n",
    "    x2, y2 = x[np.abs(h)<d], y[np.abs(h)<d]\n",
    "    x3, y3 = x[h>d], y[h>d]\n",
    "\n",
    "    c1 = np.ones_like(x1)\n",
    "    c2 = (np.random.rand(len(x2)) > 0.5).astype(int)\n",
    "    c3 = np.zeros_like(x3)\n",
    "    xs = np.concatenate([x1,x2,x3],0)\n",
    "    ys = np.concatenate([y1,y2,y3],0)\n",
    "    c = np.concatenate([c1,c2,c3],0)\n",
    "    return np.vstack([xs,ys]).T,c"
   ]
  },
  {
   "cell_type": "code",
   "execution_count": null,
   "metadata": {},
   "outputs": [],
   "source": [
    "data, classes = get_line_dataset()\n",
    "format = dict(title=\"Limiting Current with Resistors in Series\", xlabel=\"Resistor 1\", ylabel=\"Resistor 2\", classes=[\"0 - Current below limit\",\"1 - Current overload\"])\n",
    "\n",
    "plot_data(data, classes, **format)"
   ]
  },
  {
   "attachments": {},
   "cell_type": "markdown",
   "metadata": {},
   "source": [
    "## Define helper functions\n",
    "\n",
    "First, fill in code to complete the following functions. You may use code you wrote in the previous question.\n",
    "- `sigmoid(h)` to compute the sigmoid of an input `h`\n",
    "- (Given) `transform(data, w)` to add a column of ones to `data` and then multiply by the 3-element vector `w`\n",
    "- (Given) `loss(data,y,w)` to compute the logistic regression loss function:\n",
    "$$ L(x,y,w) = \\sum_{i=1}^n -y^{(i)} \\cdot \\ln(g(w'x^{(i)})) - (1 - y^{(i)}) \\cdot \\ln(1 - g(w'x^{(i)})) $$\n",
    "- `gradloss(data,y,w)` to compute the gradient of the loss function with respect to w:\n",
    "$$ \\frac{\\partial L}{w_j} = \\sum_{i=1}^n (g(w'x^{(i)}) - y^{(i)}) x_j^{(i)}"
   ]
  },
  {
   "cell_type": "code",
   "execution_count": null,
   "metadata": {},
   "outputs": [],
   "source": [
    "def sigmoid(h):\n",
    "    # YOUR CODE GOES HERE\n",
    "    return\n",
    "\n",
    "def transform(data, w):\n",
    "    xs = data[:,0]\n",
    "    ys = data[:,1]\n",
    "    ones = np.ones_like(xs)\n",
    "    h = w[0]*ones + w[1]*xs + w[2]*ys\n",
    "    return h\n",
    "\n",
    "def loss(data, y, w):\n",
    "    wt_x = transform(data,w)\n",
    "    J1 = -np.log(sigmoid(wt_x)) * y\n",
    "    J2 = -np.log(sigmoid(wt_x)) * (1-y)\n",
    "    L = np.sum(J1 + J2)\n",
    "    return L\n",
    "\n",
    "def gradloss(data, y, w):\n",
    "    # YOUR CODE GOES HERE\n",
    "    return"
   ]
  },
  {
   "attachments": {},
   "cell_type": "markdown",
   "metadata": {},
   "source": [
    "## Gradient Descent\n",
    "\n",
    "Now you'll write a gradient descent loop. Given a number of iterations and a step size, continually update `w` to minimize the loss function. Use the `gradloss` function you wrote to compute a gradient, then move `w` by `stepsize` in the direction opposite the gradient. Return the optimized `w`."
   ]
  },
  {
   "cell_type": "code",
   "execution_count": null,
   "metadata": {},
   "outputs": [],
   "source": [
    "def grad_desc(data, y, w0=np.array([0,0,0]), iterations=100, stepsize=0.1):\n",
    "    # YOUR CODE GOES HERE\n",
    "    return"
   ]
  },
  {
   "attachments": {},
   "cell_type": "markdown",
   "metadata": {},
   "source": [
    "## Test your classifier\n",
    "\n",
    "Run these cells to find the optimal `w`, compute the accuracy on the training data, and plot a decision boundary."
   ]
  },
  {
   "cell_type": "code",
   "execution_count": null,
   "metadata": {},
   "outputs": [],
   "source": [
    "w = grad_desc(data,classes)\n",
    "preds = np.round(sigmoid(transform(data, w))).astype(int)\n",
    "accuracy = np.sum(preds == classes) / len(classes) * 100\n",
    "print(\"          w = \", w)\n",
    "print(\"True Classes: \", classes.astype(int))\n",
    "print(\" Predictions: \", preds)\n",
    "print(\"    Accuracy: \", accuracy, r\"%\")"
   ]
  },
  {
   "cell_type": "code",
   "execution_count": null,
   "metadata": {},
   "outputs": [],
   "source": [
    "predict = lambda data: np.round(sigmoid(transform(data, w)))\n",
    "plot_data(data, classes, **format)\n",
    "plot_contour(predict)\n",
    "plt.show()"
   ]
  }
 ],
 "metadata": {
  "kernelspec": {
   "display_name": "torch_env",
   "language": "python",
   "name": "python3"
  },
  "language_info": {
   "codemirror_mode": {
    "name": "ipython",
    "version": 3
   },
   "file_extension": ".py",
   "mimetype": "text/x-python",
   "name": "python",
   "nbconvert_exporter": "python",
   "pygments_lexer": "ipython3",
   "version": "3.9.7"
  },
  "orig_nbformat": 4
 },
 "nbformat": 4,
 "nbformat_minor": 2
}
