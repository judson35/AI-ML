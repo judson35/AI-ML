{
 "cells": [
  {
   "attachments": {},
   "cell_type": "markdown",
   "metadata": {},
   "source": [
    "# Problem 9 (20 Points)\n",
    "## Problem description\n",
    "So far, we have worked with ~2 dimensional problems with 2-3 classes. Most often in ML, there are many more explanatory variables and classes than this. In this problem, you'll be training logistic regression models on a database of grayscale images of hand-drawn digits, using SciKit-Learn. Now there are 400 (20x20) input features and 10 classes (digits 0-9).\n",
    "\n",
    "As usual, you can use any code from previous problems.\n",
    "\n",
    "## Summary of deliverables\n",
    "- OvR model accuracy on training data\n",
    "- OvR model accuracy on testing data\n",
    "- Multinomial model accuracy on training data\n",
    "- Multinomial model accuracy on testing data\n",
    "\n",
    "\n",
    "### Imports and Utility Functions:\n"
   ]
  },
  {
   "cell_type": "code",
   "execution_count": null,
   "metadata": {},
   "outputs": [],
   "source": [
    "import numpy as np\n",
    "import matplotlib.pyplot as plt\n",
    "from sklearn.linear_model import LogisticRegression\n",
    "\n",
    "def visualize(xdata, index, title=\"\"):\n",
    "    image = xdata[index,:].reshape(20,20).T\n",
    "    plt.figure()\n",
    "    plt.imshow(image,cmap = \"binary\")\n",
    "    plt.axis(\"off\")\n",
    "    plt.title(title)\n",
    "    plt.show()"
   ]
  },
  {
   "attachments": {},
   "cell_type": "markdown",
   "metadata": {},
   "source": [
    "## Load data\n",
    "The following cell loads in training and testing data into the following variables:\n",
    "- `x_train`: 4000x400 array of input features, used for training\n",
    "- `y_train`: Array of ground-truth classes for each point in `x_train`\n",
    "- `x_test`: 1000x400 array of input features, used for testing\n",
    "- `y_test`: Array of ground-truth classes for each point in `x_test`\n",
    "\n",
    "\n",
    "You can visualize a digit with the `visualize(x_data, index)` function."
   ]
  },
  {
   "cell_type": "code",
   "execution_count": null,
   "metadata": {},
   "outputs": [],
   "source": [
    "x_train = np.load(\"data/w3-hw3-train_x.npy\")\n",
    "y_train = np.load(\"data/w3-hw3-train_y.npy\")\n",
    "x_test = np.load(\"data/w3-hw3-test_x.npy\")\n",
    "y_test = np.load(\"data/w3-hw3-test_y.npy\")\n",
    "\n",
    "visualize(x_train,1234)"
   ]
  },
  {
   "attachments": {},
   "cell_type": "markdown",
   "metadata": {},
   "source": [
    "## Logistic Regression Models\n",
    "\n",
    "Use sklearn's `LogisticRegression` to fit a multinomial logistic regression model on the training data. You may need to increase the `max_iter` argument for the model to converge.\n",
    "\n",
    "Train 2 models: one using the One-vs-Rest method, and another that minimizes multinomial loss. You can do these by setting the `multi_class` argument to \"ovr\" and \"multinomial\", respectively.  \n",
    "\n",
    "More information: https://scikit-learn.org/stable/modules/generated/sklearn.linear_model.LogisticRegression.html"
   ]
  },
  {
   "cell_type": "code",
   "execution_count": null,
   "metadata": {},
   "outputs": [],
   "source": [
    "# YOUR CODE GOES HERE (sklearn models)"
   ]
  },
  {
   "attachments": {},
   "cell_type": "markdown",
   "metadata": {},
   "source": [
    "## Accuracy\n",
    "\n",
    "Compute and print the accuracy of each model on the training and testing sets as a percent."
   ]
  },
  {
   "cell_type": "code",
   "execution_count": null,
   "metadata": {},
   "outputs": [],
   "source": [
    "# YOUR CODE GOES HERE (print the 4 requested accuracy values)"
   ]
  }
 ],
 "metadata": {
  "kernelspec": {
   "display_name": "torch_env",
   "language": "python",
   "name": "python3"
  },
  "language_info": {
   "codemirror_mode": {
    "name": "ipython",
    "version": 3
   },
   "file_extension": ".py",
   "mimetype": "text/x-python",
   "name": "python",
   "nbconvert_exporter": "python",
   "pygments_lexer": "ipython3",
   "version": "3.9.7"
  },
  "orig_nbformat": 4
 },
 "nbformat": 4,
 "nbformat_minor": 2
}
