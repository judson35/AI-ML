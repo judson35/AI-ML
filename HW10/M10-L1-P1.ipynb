{
 "cells": [
  {
   "attachments": {},
   "cell_type": "markdown",
   "metadata": {},
   "source": [
    "# M10-L1 Problem 1\n",
    "\n",
    "In this problem you will look compare models with lower/higher variance/bias by computing bias and variance at a single point."
   ]
  },
  {
   "cell_type": "code",
   "execution_count": null,
   "metadata": {},
   "outputs": [],
   "source": [
    "import numpy as np\n",
    "import matplotlib.pyplot as plt\n",
    "from sklearn.linear_model import LinearRegression\n",
    "from sklearn.neighbors import KNeighborsRegressor\n",
    "\n",
    "def plot_model(model,color=\"blue\"):\n",
    "    x = np.linspace(0, np.pi*2, 100)\n",
    "    y = model.predict(x.reshape(-1,1))\n",
    "    plt.plot(x, y, color=color)\n",
    "    plt.xlabel(\"x\")\n",
    "    plt.ylabel(\"y\")\n",
    "\n",
    "def plot_data(x, y):\n",
    "    plt.scatter(x,y,color=\"black\")\n",
    "\n",
    "def eval_model_at_point(model, x):\n",
    "    return model.predict(np.array([[x]])).item()\n",
    "\n",
    "def train_models():\n",
    "    x = np.random.uniform(0,np.pi*2,20).reshape(-1,1)\n",
    "    y = np.random.normal(np.sin(x),0.5).flatten()\n",
    "\n",
    "    modelA = LinearRegression()\n",
    "    modelB = KNeighborsRegressor(3)\n",
    "    modelA.fit(x,y)\n",
    "    modelB.fit(x,y)\n",
    "    return modelA, modelB, x, y\n",
    "\n"
   ]
  },
  {
   "attachments": {},
   "cell_type": "markdown",
   "metadata": {},
   "source": [
    "The function `train_models` gets 20 new data points and trains two models on these data points. Model A is a linear regression model, while model B is a 3-nearest neighbor regressor."
   ]
  },
  {
   "cell_type": "code",
   "execution_count": null,
   "metadata": {},
   "outputs": [],
   "source": [
    "modelA, modelB, x, y = train_models()\n",
    "plt.figure()\n",
    "plot_data(x,y)\n",
    "plot_model(modelA,\"blue\")\n",
    "plot_model(modelB,\"red\")\n",
    "plt.legend([\"Example Data\", \"Example Model A\", \"Example Model B\"])\n",
    "plt.ylim([-2,2])\n",
    "plt.show()"
   ]
  },
  {
   "attachments": {},
   "cell_type": "markdown",
   "metadata": {},
   "source": [
    "## Training models\n",
    "First, train 50 instances of model A and 50 instances of model B. Store all 100 total models for use in the next few cells. Generate these models with the function: `modelA, modelB, x, y = train_models()`."
   ]
  },
  {
   "cell_type": "code",
   "execution_count": null,
   "metadata": {},
   "outputs": [],
   "source": [
    "# YOUR CODE GOES HERE"
   ]
  },
  {
   "attachments": {},
   "cell_type": "markdown",
   "metadata": {},
   "source": [
    "## Bias and Variance\n",
    "\n",
    "Now we will use the definitions of bias and variance to compute the bias and variance of each type of model. You will focus on the point x = 1.57 only. First, compute the prediction for each model at x. (You can use the function `eval_model_at_point(model, x)`)."
   ]
  },
  {
   "cell_type": "code",
   "execution_count": null,
   "metadata": {},
   "outputs": [],
   "source": [
    "x = 1.57\n",
    "\n",
    "# YOUR CODE GOES HERE"
   ]
  },
  {
   "attachments": {},
   "cell_type": "markdown",
   "metadata": {},
   "source": [
    "\n",
    "In this cell, use the values you computed above to compute and print the bias and variance of model A at the point x = 1.57. The true function value `y_GT` is given as 1 for x=1.57."
   ]
  },
  {
   "cell_type": "code",
   "execution_count": null,
   "metadata": {},
   "outputs": [],
   "source": [
    "yGT = 1\n",
    "\n",
    "# YOUR CODE GOES HERE\n",
    "\n",
    "print(f\"Model A:   Bias = {bias_A:.3f},  Variance = {var_A:.3f}\")\n",
    "print(f\"Model B:   Bias = {bias_B:.3f},  Variance = {var_B:.3f}\")\n",
    "\n"
   ]
  },
  {
   "attachments": {},
   "cell_type": "markdown",
   "metadata": {},
   "source": [
    "#### Questions\n",
    "1. Which model has smaller bias at $x = 1.57$?  \n",
    "\n",
    "\n",
    "2. Which model has lower variance at $x = 1.57$?  \n"
   ]
  },
  {
   "attachments": {},
   "cell_type": "markdown",
   "metadata": {},
   "source": [
    "## Plotting models\n",
    "Now use the `plot_model` function to overlay all Model A predictions on one plot and all Model B predictions on another. Notice the spread of each model."
   ]
  },
  {
   "cell_type": "code",
   "execution_count": null,
   "metadata": {},
   "outputs": [],
   "source": [
    "plt.figure(figsize=(9,3))\n",
    "\n",
    "plt.subplot(1,2,1)\n",
    "plt.title(\"Model A\")\n",
    "# YOUR CODE GOES HERE\n",
    "\n",
    "\n",
    "plt.subplot(1,2,2)\n",
    "plt.title(\"Model B\")\n",
    "# YOUR CODE GOES HERE\n",
    "\n",
    "plt.show()"
   ]
  }
 ],
 "metadata": {
  "kernelspec": {
   "display_name": "aiml_env",
   "language": "python",
   "name": "python3"
  },
  "language_info": {
   "codemirror_mode": {
    "name": "ipython",
    "version": 3
   },
   "file_extension": ".py",
   "mimetype": "text/x-python",
   "name": "python",
   "nbconvert_exporter": "python",
   "pygments_lexer": "ipython3",
   "version": "3.10.11"
  },
  "orig_nbformat": 4
 },
 "nbformat": 4,
 "nbformat_minor": 2
}
